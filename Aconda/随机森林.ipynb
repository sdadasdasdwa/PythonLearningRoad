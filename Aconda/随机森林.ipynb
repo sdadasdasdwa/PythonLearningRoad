{
 "cells": [
  {
   "cell_type": "code",
   "execution_count": 1,
   "id": "e01b143a",
   "metadata": {},
   "outputs": [],
   "source": [
    "import pandas as pd\n",
    "import numpy as np\n",
    "import  matplotlib.pyplot as plt\n",
    "%matplotlib inline\n",
    "from sklearn import preprocessing"
   ]
  },
  {
   "cell_type": "code",
   "execution_count": 9,
   "id": "c39fac25",
   "metadata": {},
   "outputs": [],
   "source": [
    "data = pd.read_csv('June.csv')"
   ]
  },
  {
   "cell_type": "code",
   "execution_count": 10,
   "id": "048e48c5",
   "metadata": {},
   "outputs": [],
   "source": [
    "features=data[['ITEM_PRICE','ITEM_SALES_VOLUME','Label1','Label2','Label3','Label4','Label5']]\n",
    "labels = data[['label']]\n",
    "#名字单独保存，以备后患\n",
    "feature_list=list(features.columns)\n",
    "#转换成合适的格式\n",
    "features=np.array(features)"
   ]
  },
  {
   "cell_type": "code",
   "execution_count": 11,
   "id": "04c801f6",
   "metadata": {},
   "outputs": [],
   "source": [
    "from sklearn.tree import DecisionTreeClassifier\n",
    "from sklearn.ensemble import RandomForestClassifier\n",
    "from sklearn.datasets import load_wine"
   ]
  },
  {
   "cell_type": "code",
   "execution_count": 12,
   "id": "05239e07",
   "metadata": {},
   "outputs": [
    {
     "name": "stdout",
     "output_type": "stream",
     "text": [
      "训练集特征 (265652, 7)\n",
      "训练集标签 (265652, 1)\n",
      "测试集特征 (29517, 7)\n",
      "测试集标签 (29517, 1)\n"
     ]
    }
   ],
   "source": [
    "#数据集切分\n",
    "from sklearn.model_selection import train_test_split\n",
    "train_features,test_features,train_labels,test_labels=train_test_split(features,labels,test_size=0.1,random_state=42)\n",
    "print('训练集特征',train_features.shape)\n",
    "print('训练集标签',train_labels.shape)\n",
    "print('测试集特征',test_features.shape)\n",
    "print('测试集标签',test_labels.shape)"
   ]
  },
  {
   "cell_type": "code",
   "execution_count": 13,
   "id": "277642e9",
   "metadata": {},
   "outputs": [
    {
     "name": "stderr",
     "output_type": "stream",
     "text": [
      "<ipython-input-13-aa23ba1daf2f>:5: DataConversionWarning: A column-vector y was passed when a 1d array was expected. Please change the shape of y to (n_samples,), for example using ravel().\n",
      "  rfc = rfc.fit(train_features,train_labels)\n"
     ]
    },
    {
     "name": "stdout",
     "output_type": "stream",
     "text": [
      "Single Tree:0.9991530304570247 Random Forest:0.9994240607107768\n"
     ]
    }
   ],
   "source": [
    "from sklearn.model_selection import train_test_split\n",
    "clf = DecisionTreeClassifier(random_state=0)\n",
    "rfc = RandomForestClassifier(random_state=0)\n",
    "clf = clf.fit(train_features,train_labels)\n",
    "rfc = rfc.fit(train_features,train_labels)\n",
    "score_c = clf.score(test_features,test_labels)\n",
    "score_r = rfc.score(test_features,test_labels)\n",
    "print(\"Single Tree:{}\".format(score_c)\n",
    "     ,\"Random Forest:{}\".format(score_r)\n",
    "     )"
   ]
  },
  {
   "cell_type": "code",
   "execution_count": 14,
   "id": "4a608294",
   "metadata": {},
   "outputs": [
    {
     "name": "stdout",
     "output_type": "stream",
     "text": [
      "Variable:ITEM_PRICE           Importance:0.47\n",
      "Variable:ITEM_SALES_VOLUME    Importance:0.41\n",
      "Variable:Label3               Importance:0.04\n",
      "Variable:Label2               Importance:0.03\n",
      "Variable:Label4               Importance:0.03\n",
      "Variable:Label1               Importance:0.02\n",
      "Variable:Label5               Importance:0.01\n"
     ]
    },
    {
     "data": {
      "text/plain": [
       "[None, None, None, None, None, None, None]"
      ]
     },
     "execution_count": 14,
     "metadata": {},
     "output_type": "execute_result"
    }
   ],
   "source": [
    "#得到特征重要性\n",
    "importances=list(rfc.feature_importances_)\n",
    "# print(importances)\n",
    "#转换格式\n",
    "feature_importances=[(feature,round(importance,2)) for feature,importance in zip(feature_list,importances)]\n",
    "#排序\n",
    "feature_importances=sorted(feature_importances,key=lambda x:x[1],reverse=True)\n",
    "#对应进行打印\n",
    "[print('Variable:{:20} Importance:{}'.format(*pair)) for pair in feature_importances]"
   ]
  },
  {
   "cell_type": "code",
   "execution_count": 15,
   "id": "e6bd06e3",
   "metadata": {},
   "outputs": [
    {
     "data": {
      "text/plain": [
       "Text(0.5, 1.0, 'Variable Importance')"
      ]
     },
     "execution_count": 15,
     "metadata": {},
     "output_type": "execute_result"
    },
    {
     "data": {
      "image/png": "[encoded data removed]",
      "text/plain": [
       "<Figure size 432x288 with 1 Axes>"
      ]
     },
     "metadata": {
      "needs_background": "light"
     },
     "output_type": "display_data"
    }
   ],
   "source": [
    "#转换成list格式\n",
    "x_values=list(range(len(importances)))\n",
    "#绘图\n",
    "plt.bar(x_values,importances,orientation='vertical')\n",
    "#x轴名字\n",
    "plt.xticks(x_values,feature_list,rotation='vertical')\n",
    "#图题\n",
    "plt.xlabel('Variable')\n",
    "plt.ylabel('Importancce')\n",
    "plt.title('Variable Importance')"
   ]
  },
  {
   "cell_type": "code",
   "execution_count": 14,
   "id": "67cf3f0a",
   "metadata": {},
   "outputs": [
    {
     "data": {
      "text/plain": [
       "Text(0.5, 1.0, 'Cumulative Importances')"
      ]
     },
     "execution_count": 14,
     "metadata": {},
     "output_type": "execute_result"
    },
    {
     "data": {
      "image/png": "[encoded data removed]",
      "text/plain": [
       "<Figure size 432x288 with 1 Axes>"
      ]
     },
     "metadata": {
      "needs_background": "light"
     },
     "output_type": "display_data"
    }
   ],
   "source": [
    "#对特征进行排序\n",
    "sorted_importances=[importance[1] for importance in feature_importances]\n",
    "sorted_features=[importance[0] for importance in feature_importances]\n",
    "#累计重要性\n",
    "cumulative_importances=np.cumsum(sorted_importances)\n",
    "#绘制折线图\n",
    "plt.plot(x_values,cumulative_importances,'g-')\n",
    "#画一条y=0.95的红线\n",
    "plt.hlines(y=0.95,xmin=0,xmax=len(sorted_importances),color='r',linestyles='dashed')\n",
    "#x轴\n",
    "plt.xticks(x_values,sorted_features,rotation='vertical')\n",
    "#y轴\n",
    "plt.xlabel('Variable')\n",
    "plt.ylabel('Cumlative Importance')\n",
    "plt.title('Cumulative Importances')"
   ]
  },
  {
   "cell_type": "code",
   "execution_count": 51,
   "id": "75cb6f16",
   "metadata": {},
   "outputs": [],
   "source": [
    "data1 = pd.read_csv('June2.csv')\n",
    "data2 = pd.read_csv('July2.csv')\n",
    "data3 = pd.read_csv('August2.csv')\n",
    "data4 = pd.read_csv('September2.csv')\n",
    "df=[data1,data2,data3,data4]\n",
    "result=pd.concat(df)\n",
    "result.to_csv('result.csv')"
   ]
  },
  {
   "cell_type": "code",
   "execution_count": 32,
   "id": "34283e73",
   "metadata": {},
   "outputs": [],
   "source": [
    "data=pd.read_csv('June1.csv')\n",
    "features=data[['ITEM_PRICE','ITEM_SALES_VOLUME','Label1','Label2','Label3','Label4','Label5']]\n",
    "\n"
   ]
  },
  {
   "cell_type": "code",
   "execution_count": 33,
   "id": "5cd0eece",
   "metadata": {},
   "outputs": [],
   "source": [
    "predictions=rfc.predict(features)"
   ]
  },
  {
   "cell_type": "code",
   "execution_count": 34,
   "id": "84c952f2",
   "metadata": {},
   "outputs": [],
   "source": [
    "data['label']=predictions"
   ]
  },
  {
   "cell_type": "code",
   "execution_count": 35,
   "id": "9da60a35",
   "metadata": {},
   "outputs": [],
   "source": [
    "data.to_csv('June2.csv')"
   ]
  },
  {
   "cell_type": "code",
   "execution_count": 42,
   "id": "7bf70c6a",
   "metadata": {},
   "outputs": [
    {
     "data": {
      "text/plain": [
       "9"
      ]
     },
     "execution_count": 42,
     "metadata": {},
     "output_type": "execute_result"
    }
   ],
   "source": [
    "data.iloc[0,1]"
   ]
  },
  {
   "cell_type": "code",
   "execution_count": 49,
   "id": "e4bd55c5",
   "metadata": {},
   "outputs": [],
   "source": [
    "data=pd.read_csv('September2.csv')"
   ]
  },
  {
   "cell_type": "code",
   "execution_count": 50,
   "id": "b772819c",
   "metadata": {},
   "outputs": [],
   "source": [
    "data=data[['ITEM_ID','label']]\n",
    "data.to_csv('September2.csv')"
   ]
  },
  {
   "cell_type": "code",
   "execution_count": 43,
   "id": "b9082688",
   "metadata": {},
   "outputs": [],
   "source": [
    "index=data['label']!=7\n",
    "data=data[index]\n",
    "for i in range(data.shape[0]):\n",
    "    if(data.iloc[i,1]==8):\n",
    "        data.iloc[i,1]='价格异常'\n",
    "    else:\n",
    "        data.iloc[i,1]='销量异常'\n",
    "data.to_csv('June2.csv')\n"
   ]
  },
  {
   "cell_type": "code",
   "execution_count": 2,
   "id": "735e4643",
   "metadata": {},
   "outputs": [],
   "source": [
    "data1 = pd.read_csv('June1.csv')\n",
    "data2 = pd.read_csv('July1.csv')\n",
    "data3 = pd.read_csv('August1.csv')\n",
    "data4 = pd.read_csv('September1.csv')"
   ]
  },
  {
   "cell_type": "code",
   "execution_count": 3,
   "id": "14420833",
   "metadata": {},
   "outputs": [],
   "source": [
    "df1=data1[data1['label']==7].shape[0]\n",
    "df2=data1[data1['label']==8].shape[0]\n",
    "df3=data1[data1['label']==9].shape[0]"
   ]
  },
  {
   "cell_type": "code",
   "execution_count": 55,
   "id": "ea30dcf5",
   "metadata": {},
   "outputs": [
    {
     "name": "stderr",
     "output_type": "stream",
     "text": [
      "<ipython-input-55-9142c407807b>:4: MatplotlibDeprecationWarning: normalize=None does not normalize if the sum is less than 1 but this behavior is deprecated since 3.3 until two minor releases later. After the deprecation period the default value will be normalize=True. To prevent normalization pass normalize=False \n",
      "  plt.pie([df1,df2,df3],explode=i,labels=['normal','price unnormal','amount unnormal'], colors=['lightskyblue', 'lightcoral','yellow'],autopct='%1.2f%%',shadow=False,startangle=150)\n"
     ]
    },
    {
     "data": {
      "text/plain": [
       "<matplotlib.legend.Legend at 0x24b43ee9670>"
      ]
     },
     "execution_count": 55,
     "metadata": {},
     "output_type": "execute_result"
    },
    {
     "data": {
      "image/png": "[encoded data removed]",
      "text/plain": [
       "<Figure size 576x576 with 1 Axes>"
      ]
     },
     "metadata": {},
     "output_type": "display_data"
    }
   ],
   "source": [
    "fig = plt.figure(figsize=(8,8))\n",
    "# x_value=list(range(2))\n",
    "i = [0,0.1,0.3]\n",
    "plt.pie([df1,df2,df3],explode=i,labels=['normal','price unnormal','amount unnormal'], colors=['lightskyblue', 'lightcoral','yellow'],autopct='%1.2f%%',shadow=False,startangle=150)\n",
    "plt.legend()\n",
    "# plt.bar(x_value,height=[df1,df2], width=0.4, alpha=0.8, color='skyblue')\n",
    "# plt.xticks(x_value,['正常','异常'],rotation='vertical')\n",
    "# plt.xlabel('Variable')\n",
    "# plt.ylabel('数量')\n",
    "# plt.title('6月数据异常情况数量对比')"
   ]
  }
 ],
 "metadata": {
  "kernelspec": {
   "display_name": "Python 3",
   "language": "python",
   "name": "python3"
  },
  "language_info": {
   "codemirror_mode": {
    "name": "ipython",
    "version": 3
   },
   "file_extension": ".py",
   "mimetype": "text/x-python",
   "name": "python",
   "nbconvert_exporter": "python",
   "pygments_lexer": "ipython3",
   "version": "3.8.8"
  }
 },
 "nbformat": 4,
 "nbformat_minor": 5
}
