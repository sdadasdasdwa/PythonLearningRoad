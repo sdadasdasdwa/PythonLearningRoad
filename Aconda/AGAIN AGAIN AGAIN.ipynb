{
 "cells": [
  {
   "cell_type": "code",
   "execution_count": 1,
   "id": "ea46ef80",
   "metadata": {},
   "outputs": [],
   "source": [
    "import numpy as np\n",
    "import pandas as pd"
   ]
  },
  {
   "cell_type": "code",
   "execution_count": 2,
   "id": "cc64b060",
   "metadata": {},
   "outputs": [
    {
     "name": "stdout",
     "output_type": "stream",
     "text": [
      "['DATA_MONTH', 'ITEM_ID', 'ITEM_NAME', 'BRAND_ID', 'BRAND_NAME', 'ITEM_PRICE', 'ITEM_SALES_VOLUME', 'ITEM_SALES_AMOUNT', 'CATE_NAME_LV1', 'CATE_NAME_LV2', 'CATE_NAME_LV3', 'CATE_NAME_LV4', 'CATE_NAME_LV5', 'ITEM_FAV_NUM', 'TOTAL_EVAL_NUM', 'ITEM_STOCK', 'ITEM_DELIVERY_PLACE', 'ITEM_PROD_PLACE', 'ITEM_PARAM', 'USER_ID', 'SHOP_NAME\\r\\n']\n"
     ]
    },
    {
     "ename": "KeyboardInterrupt",
     "evalue": "",
     "output_type": "error",
     "traceback": [
      "\u001b[1;31m---------------------------------------------------------------------------\u001b[0m",
      "\u001b[1;31mKeyboardInterrupt\u001b[0m                         Traceback (most recent call last)",
      "\u001b[1;32m<ipython-input-2-a1c4296fe4c0>\u001b[0m in \u001b[0;36m<module>\u001b[1;34m\u001b[0m\n\u001b[0;32m      3\u001b[0m \u001b[1;32mimport\u001b[0m \u001b[0mcodecs\u001b[0m\u001b[1;33m\u001b[0m\u001b[1;33m\u001b[0m\u001b[0m\n\u001b[0;32m      4\u001b[0m \u001b[1;32mwith\u001b[0m \u001b[0mcodecs\u001b[0m\u001b[1;33m.\u001b[0m\u001b[0mopen\u001b[0m\u001b[1;33m(\u001b[0m\u001b[0mfilepath\u001b[0m\u001b[1;33m,\u001b[0m\u001b[1;34m'rb'\u001b[0m\u001b[1;33m,\u001b[0m\u001b[1;34m'gb18030'\u001b[0m\u001b[1;33m,\u001b[0m\u001b[0merrors\u001b[0m\u001b[1;33m=\u001b[0m\u001b[1;34m'ignore'\u001b[0m\u001b[1;33m)\u001b[0m \u001b[1;32mas\u001b[0m \u001b[0mcsvfile\u001b[0m\u001b[1;33m:\u001b[0m\u001b[1;33m\u001b[0m\u001b[1;33m\u001b[0m\u001b[0m\n\u001b[1;32m----> 5\u001b[1;33m     \u001b[1;32mfor\u001b[0m \u001b[0mline\u001b[0m \u001b[1;32min\u001b[0m \u001b[0mcsvfile\u001b[0m\u001b[1;33m:\u001b[0m\u001b[1;33m\u001b[0m\u001b[1;33m\u001b[0m\u001b[0m\n\u001b[0m\u001b[0;32m      6\u001b[0m         \u001b[0mtemp1\u001b[0m\u001b[1;33m=\u001b[0m\u001b[0mline\u001b[0m\u001b[1;33m.\u001b[0m\u001b[0msplit\u001b[0m\u001b[1;33m(\u001b[0m\u001b[1;34m'\\t'\u001b[0m\u001b[1;33m)\u001b[0m\u001b[1;33m\u001b[0m\u001b[1;33m\u001b[0m\u001b[0m\n\u001b[0;32m      7\u001b[0m         \u001b[0mresult\u001b[0m\u001b[1;33m.\u001b[0m\u001b[0mappend\u001b[0m\u001b[1;33m(\u001b[0m\u001b[0mtemp1\u001b[0m\u001b[1;33m)\u001b[0m\u001b[1;33m\u001b[0m\u001b[1;33m\u001b[0m\u001b[0m\n",
      "\u001b[1;32mD:\\Anaconda\\lib\\codecs.py\u001b[0m in \u001b[0;36m__next__\u001b[1;34m(self)\u001b[0m\n\u001b[0;32m    712\u001b[0m \u001b[1;33m\u001b[0m\u001b[0m\n\u001b[0;32m    713\u001b[0m         \u001b[1;34m\"\"\" Return the next decoded line from the input stream.\"\"\"\u001b[0m\u001b[1;33m\u001b[0m\u001b[1;33m\u001b[0m\u001b[0m\n\u001b[1;32m--> 714\u001b[1;33m         \u001b[1;32mreturn\u001b[0m \u001b[0mnext\u001b[0m\u001b[1;33m(\u001b[0m\u001b[0mself\u001b[0m\u001b[1;33m.\u001b[0m\u001b[0mreader\u001b[0m\u001b[1;33m)\u001b[0m\u001b[1;33m\u001b[0m\u001b[1;33m\u001b[0m\u001b[0m\n\u001b[0m\u001b[0;32m    715\u001b[0m \u001b[1;33m\u001b[0m\u001b[0m\n\u001b[0;32m    716\u001b[0m     \u001b[1;32mdef\u001b[0m \u001b[0m__iter__\u001b[0m\u001b[1;33m(\u001b[0m\u001b[0mself\u001b[0m\u001b[1;33m)\u001b[0m\u001b[1;33m:\u001b[0m\u001b[1;33m\u001b[0m\u001b[1;33m\u001b[0m\u001b[0m\n",
      "\u001b[1;32mD:\\Anaconda\\lib\\codecs.py\u001b[0m in \u001b[0;36m__next__\u001b[1;34m(self)\u001b[0m\n\u001b[0;32m    643\u001b[0m \u001b[1;33m\u001b[0m\u001b[0m\n\u001b[0;32m    644\u001b[0m         \u001b[1;34m\"\"\" Return the next decoded line from the input stream.\"\"\"\u001b[0m\u001b[1;33m\u001b[0m\u001b[1;33m\u001b[0m\u001b[0m\n\u001b[1;32m--> 645\u001b[1;33m         \u001b[0mline\u001b[0m \u001b[1;33m=\u001b[0m \u001b[0mself\u001b[0m\u001b[1;33m.\u001b[0m\u001b[0mreadline\u001b[0m\u001b[1;33m(\u001b[0m\u001b[1;33m)\u001b[0m\u001b[1;33m\u001b[0m\u001b[1;33m\u001b[0m\u001b[0m\n\u001b[0m\u001b[0;32m    646\u001b[0m         \u001b[1;32mif\u001b[0m \u001b[0mline\u001b[0m\u001b[1;33m:\u001b[0m\u001b[1;33m\u001b[0m\u001b[1;33m\u001b[0m\u001b[0m\n\u001b[0;32m    647\u001b[0m             \u001b[1;32mreturn\u001b[0m \u001b[0mline\u001b[0m\u001b[1;33m\u001b[0m\u001b[1;33m\u001b[0m\u001b[0m\n",
      "\u001b[1;31mKeyboardInterrupt\u001b[0m: "
     ]
    }
   ],
   "source": [
    "result =[]\n",
    "filepath = 'data_202107.tsv'\n",
    "import codecs\n",
    "with codecs.open(filepath,'rb','gb18030',errors='ignore') as csvfile:\n",
    "    for line in csvfile:\n",
    "        temp1=line.split('\\t')\n",
    "        result.append(temp1)\n",
    "#将读取的list转换成dataframe类型\n",
    "df=pd.DataFrame(result)\n",
    "#准备更改列名\n",
    "a=[]\n",
    "for i in range(21):\n",
    "    a.append(df.iloc[0][i])\n",
    "print(a)\n",
    "df.columns=a\n",
    "df.drop([0,1],inplace = True)\n",
    "#清除无关信息\n",
    "df.drop(columns=['DATA_MONTH','BRAND_ID','BRAND_NAME','ITEM_SALES_AMOUNT','ITEM_FAV_NUM', 'TOTAL_EVAL_NUM', 'ITEM_STOCK','ITEM_DELIVERY_PLACE', 'ITEM_PROD_PLACE','ITEM_PARAM','USER_ID','SHOP_NAME\\r\\n'],inplace=True)\n",
    "#空字符串即“ ”（一个或多个空格），但在excel表格里其实是看不出来，pandas也把它当成有值进行操作\n",
    "#正则匹配空格替换 其中\\s表示空白字符，匹配任何空白字符，包括空格、制表符、换页符等\n",
    "df.replace(to_replace=r'^\\s*$',value='Nan',regex=True,inplace=True)"
   ]
  },
  {
   "cell_type": "code",
   "execution_count": 3,
   "id": "916d62e1",
   "metadata": {},
   "outputs": [],
   "source": [
    "#字符串编码\n",
    "#找到其中唯一的属性值\n",
    "genres1=np.unique(df['CATE_NAME_LV1'])\n",
    "genres2=np.unique(df['CATE_NAME_LV2'])\n",
    "genres3=np.unique(df['CATE_NAME_LV3'])\n",
    "genres4=np.unique(df['CATE_NAME_LV4'])\n",
    "genres5=np.unique(df['CATE_NAME_LV5'])"
   ]
  },
  {
   "cell_type": "code",
   "execution_count": 4,
   "id": "2564cc33",
   "metadata": {},
   "outputs": [],
   "source": [
    "from sklearn.preprocessing import LabelEncoder\n",
    "gle=LabelEncoder()\n",
    "genre_labels1=gle.fit_transform(df['CATE_NAME_LV1'])\n",
    "genre_mappings={index:label for index,label in enumerate(gle.classes_)}"
   ]
  },
  {
   "cell_type": "code",
   "execution_count": 5,
   "id": "6dee9f81",
   "metadata": {},
   "outputs": [
    {
     "data": {
      "text/plain": [
       "{0: 'Nan',\n",
       " 1: '其他',\n",
       " 2: '其他商品',\n",
       " 3: '家居建材',\n",
       " 4: '家用电器',\n",
       " 5: '手机数码',\n",
       " 6: '数字阅读',\n",
       " 7: '文化玩乐',\n",
       " 8: '服装鞋包',\n",
       " 9: '母婴用品',\n",
       " 10: '汽配摩托',\n",
       " 11: '游戏话费',\n",
       " 12: '生活服务',\n",
       " 13: '百货食品',\n",
       " 14: '盒马',\n",
       " 15: '美妆饰品',\n",
       " 16: '运动户外'}"
      ]
     },
     "execution_count": 5,
     "metadata": {},
     "output_type": "execute_result"
    }
   ],
   "source": [
    "genre_mappings"
   ]
  }
 ],
 "metadata": {
  "kernelspec": {
   "display_name": "Python 3",
   "language": "python",
   "name": "python3"
  },
  "language_info": {
   "codemirror_mode": {
    "name": "ipython",
    "version": 3
   },
   "file_extension": ".py",
   "mimetype": "text/x-python",
   "name": "python",
   "nbconvert_exporter": "python",
   "pygments_lexer": "ipython3",
   "version": "3.8.8"
  }
 },
 "nbformat": 4,
 "nbformat_minor": 5
}
