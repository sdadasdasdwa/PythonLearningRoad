{
 "cells": [
  {
   "cell_type": "code",
   "execution_count": 1,
   "id": "9358b681",
   "metadata": {},
   "outputs": [],
   "source": [
    "from lxml import etree\n",
    "import requests\n",
    "import time"
   ]
  },
  {
   "cell_type": "code",
   "execution_count": 2,
   "id": "98f3ba0a",
   "metadata": {},
   "outputs": [
    {
     "data": {
      "text/plain": [
       "<Element tr at 0x2887e405140>"
      ]
     },
     "execution_count": 2,
     "metadata": {},
     "output_type": "execute_result"
    }
   ],
   "source": [
    "headers = {\n",
    "    \"User-Agent\":\"Mozilla/5.0 (Windows NT 10.0; Win64; x64; rv:100.0) Gecko/20100101 Firefox/100.0\",\n",
    "    \"Connection\": \"close\"\n",
    "}\n",
    "url = 'http://opac.hbut.edu.cn:8080/top/top_book.php'\n",
    "time.sleep(3)\n",
    "resp = requests.get(url,headers=headers)\n",
    "resp.close()\n",
    "html = etree.HTML(resp.text)\n",
    "divs = html.xpath(\"/html/body/div[4]/div/table/tr\")\n",
    "\n",
    "divs.pop(0)\n",
    "divs.pop(21)"
   ]
  },
  {
   "cell_type": "code",
   "execution_count": 3,
   "id": "a648d104",
   "metadata": {},
   "outputs": [
    {
     "data": {
      "text/plain": [
       "<Element tr at 0x2887e3dc500>"
      ]
     },
     "execution_count": 3,
     "metadata": {},
     "output_type": "execute_result"
    }
   ],
   "source": [
    "divs.pop(92)\n",
    "divs.pop(70)\n",
    "divs.pop(68)\n",
    "divs.pop(27)\n",
    "divs.pop(25)\n",
    "divs.pop(18)\n",
    "divs.pop(17)\n",
    "divs.pop(0)"
   ]
  },
  {
   "cell_type": "code",
   "execution_count": 4,
   "id": "108b27c5",
   "metadata": {},
   "outputs": [],
   "source": [
    "import csv\n",
    "f = open(\"TuInfo.csv\",mode=\"w\",newline=\"\")\n",
    "csvwriter = csv.writer(f)"
   ]
  },
  {
   "cell_type": "code",
   "execution_count": 5,
   "id": "1b6c6136",
   "metadata": {},
   "outputs": [],
   "source": [
    "for div in divs:\n",
    "    r1 = div.xpath(\"./td[1]/text()\")[0]\n",
    "    r2 = div.xpath(\"./td[2]/a/text()\")[0].strip(\"/\")\n",
    "    r3 = div.xpath(\"./td[3]/text()\")[0]\n",
    "    r4 = div.xpath(\"./td[4]/text()\")[0].split(' ')[1].strip('-')\n",
    "    r5 = div.xpath(\"./td[5]/text()\")[0][0]\n",
    "    r6 = div.xpath(\"./td[6]/text()\")[0]\n",
    "#     print(r1,r2,r3,r4,r5,r6)\n",
    "    csvwriter.writerow([r1,r2,r3,r4,r5,r6])"
   ]
  },
  {
   "cell_type": "code",
   "execution_count": 6,
   "id": "2dbf7614",
   "metadata": {},
   "outputs": [],
   "source": [
    "f.close()"
   ]
  }
 ],
 "metadata": {
  "kernelspec": {
   "display_name": "Python 3",
   "language": "python",
   "name": "python3"
  },
  "language_info": {
   "codemirror_mode": {
    "name": "ipython",
    "version": 3
   },
   "file_extension": ".py",
   "mimetype": "text/x-python",
   "name": "python",
   "nbconvert_exporter": "python",
   "pygments_lexer": "ipython3",
   "version": "3.8.8"
  }
 },
 "nbformat": 4,
 "nbformat_minor": 5
}
