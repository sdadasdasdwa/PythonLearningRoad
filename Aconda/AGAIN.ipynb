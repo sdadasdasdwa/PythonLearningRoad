{
 "cells": [
  {
   "cell_type": "code",
   "execution_count": 1,
   "id": "079128d1",
   "metadata": {},
   "outputs": [],
   "source": [
    "import numpy as np\n",
    "import pandas as pd"
   ]
  },
  {
   "cell_type": "code",
   "execution_count": 2,
   "id": "1dffed9a",
   "metadata": {},
   "outputs": [],
   "source": [
    "result =[]\n",
    "filepath = 'data_202106.tsv'\n",
    "import codecs\n",
    "with codecs.open(filepath,'rb','gb18030',errors='ignore') as csvfile:\n",
    "    for line in csvfile:\n",
    "        temp1=line.split('\\t')\n",
    "        result.append(temp1)\n",
    "#将读取的list转换成dataframe类型\n",
    "df=pd.DataFrame(result)\n",
    "#准备更改列名\n",
    "a=[]\n",
    "for i in range(21):\n",
    "    a.append(df.iloc[0][i])\n",
    "print(a)\n",
    "df.columns=a\n",
    "df.drop([0,1],inplace = True)\n",
    "#清除无关信息\n",
    "df.drop(columns=['DATA_MONTH','BRAND_ID','BRAND_NAME','ITEM_SALES_AMOUNT','ITEM_FAV_NUM', 'TOTAL_EVAL_NUM', 'ITEM_STOCK','ITEM_DELIVERY_PLACE', 'ITEM_PROD_PLACE','ITEM_PARAM','USER_ID','SHOP_NAME\\r\\n'],inplace=True)\n",
    "#空字符串即“ ”（一个或多个空格），但在excel表格里其实是看不出来，pandas也把它当成有值进行操作\n",
    "#正则匹配空格替换 其中\\s表示空白字符，匹配任何空白字符，包括空格、制表符、换页符等\n",
    "df.replace(to_replace=r'^\\s*$',value='Nan',regex=True,inplace=True)"
   ]
  },
  {
   "cell_type": "code",
   "execution_count": 2,
   "id": "cbd01d25",
   "metadata": {},
   "outputs": [],
   "source": [
    "# df[['ITEM_ID','CATE_NAME_LV1', 'CATE_NAME_LV2', 'CATE_NAME_LV3', 'CATE_NAME_LV4', 'CATE_NAME_LV5']].iloc[0:7]"
   ]
  },
  {
   "cell_type": "code",
   "execution_count": null,
   "id": "c33edfa5",
   "metadata": {},
   "outputs": [],
   "source": [
    "#每列其中唯一的属性值\n",
    "genres1=np.unique(df['CATE_NAME_LV1'])\n",
    "genres2=np.unique(df['CATE_NAME_LV2'])\n",
    "genres3=np.unique(df['CATE_NAME_LV3'])\n",
    "genres4=np.unique(df['CATE_NAME_LV4'])\n",
    "genres5=np.unique(df['CATE_NAME_LV5'])"
   ]
  },
  {
   "cell_type": "code",
   "execution_count": null,
   "id": "3033b4cf",
   "metadata": {},
   "outputs": [],
   "source": [
    "#字符串编码\n",
    "from sklearn.preprocessing import LabelEncoder\n",
    "gle=LabelEncoder()\n",
    "genre_labels1=gle.fit_transform(df['CATE_NAME_LV1'])\n",
    "genre_labels2=gle.fit_transform(df['CATE_NAME_LV2'])\n",
    "genre_labels3=gle.fit_transform(df['CATE_NAME_LV3'])\n",
    "genre_labels4=gle.fit_transform(df['CATE_NAME_LV4'])\n",
    "genre_labels5=gle.fit_transform(df['CATE_NAME_LV5'])\n",
    "df['Label1']=genre_labels1\n",
    "df['Label2']=genre_labels2\n",
    "df['Label3']=genre_labels3\n",
    "df['Label4']=genre_labels4\n",
    "df['Label5']=genre_labels5"
   ]
  },
  {
   "cell_type": "code",
   "execution_count": 1,
   "id": "4fd5b280",
   "metadata": {},
   "outputs": [],
   "source": [
    "# df[['ITEM_ID','Label1','Label2','Label3','Label4','Label5']].iloc[0:7]"
   ]
  },
  {
   "cell_type": "code",
   "execution_count": 15,
   "id": "bdb25fdd",
   "metadata": {},
   "outputs": [],
   "source": [
    "df.to_csv('June1.csv')"
   ]
  },
  {
   "cell_type": "code",
   "execution_count": 31,
   "id": "96138707",
   "metadata": {},
   "outputs": [],
   "source": [
    "data=pd.read_csv('September2.csv')"
   ]
  },
  {
   "cell_type": "code",
   "execution_count": 32,
   "id": "e3b27348",
   "metadata": {},
   "outputs": [],
   "source": [
    "index=data['label']!=7\n",
    "data=data[index]"
   ]
  },
  {
   "cell_type": "code",
   "execution_count": 33,
   "id": "ecc7e2ff",
   "metadata": {},
   "outputs": [
    {
     "data": {
      "text/html": [
       "<div>\n",
       "<style scoped>\n",
       "    .dataframe tbody tr th:only-of-type {\n",
       "        vertical-align: middle;\n",
       "    }\n",
       "\n",
       "    .dataframe tbody tr th {\n",
       "        vertical-align: top;\n",
       "    }\n",
       "\n",
       "    .dataframe thead th {\n",
       "        text-align: right;\n",
       "    }\n",
       "</style>\n",
       "<table border=\"1\" class=\"dataframe\">\n",
       "  <thead>\n",
       "    <tr style=\"text-align: right;\">\n",
       "      <th></th>\n",
       "      <th>Unnamed: 0</th>\n",
       "      <th>ITEM_ID</th>\n",
       "      <th>label</th>\n",
       "    </tr>\n",
       "  </thead>\n",
       "  <tbody>\n",
       "    <tr>\n",
       "      <th>61</th>\n",
       "      <td>61</td>\n",
       "      <td>654904234776</td>\n",
       "      <td>9</td>\n",
       "    </tr>\n",
       "    <tr>\n",
       "      <th>293</th>\n",
       "      <td>293</td>\n",
       "      <td>655213643696</td>\n",
       "      <td>8</td>\n",
       "    </tr>\n",
       "    <tr>\n",
       "      <th>314</th>\n",
       "      <td>314</td>\n",
       "      <td>655204760254</td>\n",
       "      <td>8</td>\n",
       "    </tr>\n",
       "  </tbody>\n",
       "</table>\n",
       "</div>"
      ],
      "text/plain": [
       "     Unnamed: 0       ITEM_ID  label\n",
       "61           61  654904234776      9\n",
       "293         293  655213643696      8\n",
       "314         314  655204760254      8"
      ]
     },
     "execution_count": 33,
     "metadata": {},
     "output_type": "execute_result"
    }
   ],
   "source": [
    "data.iloc[0:3]"
   ]
  },
  {
   "cell_type": "code",
   "execution_count": 34,
   "id": "51e379d6",
   "metadata": {},
   "outputs": [],
   "source": [
    "for i in range(data.shape[0]):\n",
    "    if(data.iloc[i,2]==8):\n",
    "        data.iloc[i,2]='价格异常'\n",
    "    else:\n",
    "        data.iloc[i,2]='销量异常'\n"
   ]
  },
  {
   "cell_type": "code",
   "execution_count": 35,
   "id": "c542e4ed",
   "metadata": {},
   "outputs": [],
   "source": [
    "data.to_csv('September2.csv')"
   ]
  }
 ],
 "metadata": {
  "kernelspec": {
   "display_name": "Python 3",
   "language": "python",
   "name": "python3"
  },
  "language_info": {
   "codemirror_mode": {
    "name": "ipython",
    "version": 3
   },
   "file_extension": ".py",
   "mimetype": "text/x-python",
   "name": "python",
   "nbconvert_exporter": "python",
   "pygments_lexer": "ipython3",
   "version": "3.8.8"
  }
 },
 "nbformat": 4,
 "nbformat_minor": 5
}
