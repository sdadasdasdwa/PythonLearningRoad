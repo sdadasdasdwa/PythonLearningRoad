{
 "cells": [
  {
   "cell_type": "code",
   "execution_count": 8,
   "id": "fa7cde60",
   "metadata": {},
   "outputs": [],
   "source": [
    "import numpy as np\n",
    "import matplotlib.pyplot as plt\n",
    "\n",
    "#生成数据\n",
    "np.random.seed(seed=1)\n",
    "N = 100      #数据的个数\n",
    "K = 3        #分布的个数\n",
    "T3 = np.zeros((N,3),dtype=np.uint8)\n",
    "T2 = np.zeros((N,2),dtype=np.uint8)\n",
    "X = np.zeros((N,2))\n",
    "X_range0 = [-3,3]    #x0的范围，用于显示\n",
    "X_range1 = [-3,3]    #x1的范围，用于显示\n",
    "Mu = np.array([[-.5,-.5],[.5,1.0],[1,-.5]])    #分布的中心\n",
    "Sig = np.array([[.7,.7],[.8,.3],[.3,.8]])      #分布的离散值\n",
    "Pi = np.array([0.4,0.8,1])              #各分部比例占0.4，0.8，1\n",
    "for n in range(N):\n",
    "    wk = np.random.rand()\n",
    "    for k in range(K):\n",
    "        if wk<Pi[k]:\n",
    "            T3[n,k]=1\n",
    "            break\n",
    "    for k in range(2):\n",
    "        X[n,k] = (np.random.randn()*Sig[T3[n,:]==1,k]+Mu[T3[n,:]==1,k])\n",
    "T2[:,0]=T3[:,0]\n",
    "T2[:,1]=T3[:,1]|T3[:,2]"
   ]
  },
  {
   "cell_type": "code",
   "execution_count": 9,
   "id": "c93bf9c6",
   "metadata": {},
   "outputs": [
    {
     "name": "stdout",
     "output_type": "stream",
     "text": [
      "[[0.481 0.927 0.998]\n",
      " [0.314 0.068 0.002]\n",
      " [0.205 0.005 0.   ]]\n"
     ]
    }
   ],
   "source": [
    "#用于进行三元分类的逻辑回归模型\n",
    "def logistic3(x0,x1,w):\n",
    "    K = 3\n",
    "    w = w.reshape((3,3))\n",
    "    n = len(x1)\n",
    "    y = np.zeros((n,K))\n",
    "    for k in range(K):\n",
    "        y[:,k] = np.exp(w[k,0]*x0,w[k,1]*x1+w[k,2])\n",
    "    wk = np.sum(y,axis = 1)\n",
    "    wk = y.T/wk\n",
    "    y = wk\n",
    "    return y\n",
    "\n",
    "#test\n",
    "W = np.array([1,2,3,4,5,6,7,8,9])\n",
    "y = logistic3(X[:3,0],X[:3,1],W)\n",
    "print(np.round(y,3))\n"
   ]
  },
  {
   "cell_type": "code",
   "execution_count": null,
   "id": "1e42e071",
   "metadata": {},
   "outputs": [],
   "source": []
  },
  {
   "cell_type": "code",
   "execution_count": null,
   "id": "bff500bf",
   "metadata": {},
   "outputs": [],
   "source": []
  }
 ],
 "metadata": {
  "kernelspec": {
   "display_name": "Python 3",
   "language": "python",
   "name": "python3"
  },
  "language_info": {
   "codemirror_mode": {
    "name": "ipython",
    "version": 3
   },
   "file_extension": ".py",
   "mimetype": "text/x-python",
   "name": "python",
   "nbconvert_exporter": "python",
   "pygments_lexer": "ipython3",
   "version": "3.8.8"
  }
 },
 "nbformat": 4,
 "nbformat_minor": 5
}
