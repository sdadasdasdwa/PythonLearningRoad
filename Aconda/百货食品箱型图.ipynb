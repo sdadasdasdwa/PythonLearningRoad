{
 "cells": [
  {
   "cell_type": "code",
   "execution_count": 1,
   "id": "c36a5f5d",
   "metadata": {},
   "outputs": [],
   "source": [
    "import numpy as np\n",
    "import pandas as pd\n",
    "import  matplotlib.pyplot as plt"
   ]
  },
  {
   "cell_type": "code",
   "execution_count": 2,
   "id": "98276671",
   "metadata": {},
   "outputs": [],
   "source": [
    "data=pd.read_csv('again.csv')\n",
    "plt.rcParams['font.sans-serif'] = 'SimHei'\n",
    "plt.rcParams['axes.unicode_minus'] = False"
   ]
  },
  {
   "cell_type": "code",
   "execution_count": 3,
   "id": "52c0597d",
   "metadata": {},
   "outputs": [],
   "source": [
    "index=data['CATE_NAME_LV1']=='百货食品'\n",
    "data=data[index]"
   ]
  },
  {
   "cell_type": "code",
   "execution_count": 4,
   "id": "4127dec5",
   "metadata": {},
   "outputs": [
    {
     "data": {
      "text/html": [
       "<div>\n",
       "<style scoped>\n",
       "    .dataframe tbody tr th:only-of-type {\n",
       "        vertical-align: middle;\n",
       "    }\n",
       "\n",
       "    .dataframe tbody tr th {\n",
       "        vertical-align: top;\n",
       "    }\n",
       "\n",
       "    .dataframe thead th {\n",
       "        text-align: right;\n",
       "    }\n",
       "</style>\n",
       "<table border=\"1\" class=\"dataframe\">\n",
       "  <thead>\n",
       "    <tr style=\"text-align: right;\">\n",
       "      <th></th>\n",
       "      <th>Unnamed: 0</th>\n",
       "      <th>ITEM_ID</th>\n",
       "      <th>ITEM_NAME</th>\n",
       "      <th>ITEM_PRICE</th>\n",
       "      <th>ITEM_SALES_VOLUME</th>\n",
       "      <th>CATE_NAME_LV1</th>\n",
       "      <th>CATE_NAME_LV2</th>\n",
       "      <th>CATE_NAME_LV3</th>\n",
       "      <th>CATE_NAME_LV4</th>\n",
       "      <th>CATE_NAME_LV5</th>\n",
       "      <th>Label1</th>\n",
       "      <th>Label2</th>\n",
       "      <th>Label3</th>\n",
       "      <th>Label4</th>\n",
       "      <th>Label5</th>\n",
       "    </tr>\n",
       "  </thead>\n",
       "  <tbody>\n",
       "    <tr>\n",
       "      <th>1</th>\n",
       "      <td>3</td>\n",
       "      <td>560359123903</td>\n",
       "      <td>康乐果 利鼻片 0.25g*36片/盒 清热解毒 祛风开窍。用于风热蕴肺所致的伤风鼻塞、鼻渊...</td>\n",
       "      <td>18.0</td>\n",
       "      <td>2</td>\n",
       "      <td>百货食品</td>\n",
       "      <td>处方药</td>\n",
       "      <td>五官用药</td>\n",
       "      <td>鼻科用药</td>\n",
       "      <td>Nan</td>\n",
       "      <td>13</td>\n",
       "      <td>48</td>\n",
       "      <td>186</td>\n",
       "      <td>7873</td>\n",
       "      <td>37</td>\n",
       "    </tr>\n",
       "  </tbody>\n",
       "</table>\n",
       "</div>"
      ],
      "text/plain": [
       "   Unnamed: 0       ITEM_ID  \\\n",
       "1           3  560359123903   \n",
       "\n",
       "                                           ITEM_NAME  ITEM_PRICE  \\\n",
       "1  康乐果 利鼻片 0.25g*36片/盒 清热解毒 祛风开窍。用于风热蕴肺所致的伤风鼻塞、鼻渊...        18.0   \n",
       "\n",
       "   ITEM_SALES_VOLUME CATE_NAME_LV1 CATE_NAME_LV2 CATE_NAME_LV3 CATE_NAME_LV4  \\\n",
       "1                  2          百货食品           处方药          五官用药          鼻科用药   \n",
       "\n",
       "  CATE_NAME_LV5  Label1  Label2  Label3  Label4  Label5  \n",
       "1           Nan      13      48     186    7873      37  "
      ]
     },
     "execution_count": 4,
     "metadata": {},
     "output_type": "execute_result"
    }
   ],
   "source": [
    "data.head(1)"
   ]
  },
  {
   "cell_type": "code",
   "execution_count": 7,
   "id": "042015ea",
   "metadata": {},
   "outputs": [],
   "source": [
    "index1=data['ITEM_PRICE']<100\n",
    "index2=data['ITEM_PRICE']>=100 \n",
    "index3=data['ITEM_PRICE']<1000\n",
    "index4=data['ITEM_PRICE']>=1000\n",
    "index5=data['ITEM_PRICE']<10000\n",
    "index6=data['ITEM_PRICE']>=10000\n",
    "\n",
    "n1=data[index1].shape[0]\n",
    "n2=data[index2 & index3].shape[0]\n",
    "n3=data[index4 & index5].shape[0]\n",
    "n3=data[index6].shape[0]\n",
    "\n"
   ]
  },
  {
   "cell_type": "code",
   "execution_count": null,
   "id": "79502232",
   "metadata": {},
   "outputs": [],
   "source": [
    "fig = plt.figure(figsize=(8,8))\n",
    "i = [0,0.1,0.2,0.3]\n",
    "plt.pie([df1,df2,df3],explode=i,labels=['normal','price unnormal','amount unnormal'], colors=['lightskyblue', 'lightcoral','yellow'],autopct='%1.2f%%',shadow=False,startangle=150)\n",
    "plt.legend()"
   ]
  },
  {
   "cell_type": "code",
   "execution_count": 10,
   "id": "2fde2e20",
   "metadata": {},
   "outputs": [
    {
     "data": {
      "image/png": "[encoded data removed]",
      "text/plain": [
       "<Figure size 360x720 with 1 Axes>"
      ]
     },
     "metadata": {
      "needs_background": "light"
     },
     "output_type": "display_data"
    }
   ],
   "source": [
    "age = data['ITEM_PRICE']\n",
    "fig = plt.figure(figsize=(5 ,10))\n",
    "plt.boxplot(age, patch_artist=True,labels = ['价格'],boxprops = {'facecolor':'lightblue'})\n",
    "plt.title('一级子条目为百货食品的价格分布箱线图')\n",
    "plt.grid(axis='y')"
   ]
  },
  {
   "cell_type": "code",
   "execution_count": 11,
   "id": "14c476d2",
   "metadata": {},
   "outputs": [
    {
     "data": {
      "image/png": "[encoded data removed]",
      "text/plain": [
       "<Figure size 360x720 with 1 Axes>"
      ]
     },
     "metadata": {
      "needs_background": "light"
     },
     "output_type": "display_data"
    }
   ],
   "source": [
    "age = data['ITEM_SALES_VOLUME']\n",
    "fig = plt.figure(figsize=(5 ,10))\n",
    "plt.boxplot(age, patch_artist=True,labels = ['销售量'],boxprops = {'facecolor':'lightblue'})\n",
    "plt.title('一级子条目为百货食品的销量分布箱线图')\n",
    "plt.grid(axis='y')"
   ]
  }
 ],
 "metadata": {
  "kernelspec": {
   "display_name": "Python 3",
   "language": "python",
   "name": "python3"
  },
  "language_info": {
   "codemirror_mode": {
    "name": "ipython",
    "version": 3
   },
   "file_extension": ".py",
   "mimetype": "text/x-python",
   "name": "python",
   "nbconvert_exporter": "python",
   "pygments_lexer": "ipython3",
   "version": "3.8.8"
  }
 },
 "nbformat": 4,
 "nbformat_minor": 5
}
