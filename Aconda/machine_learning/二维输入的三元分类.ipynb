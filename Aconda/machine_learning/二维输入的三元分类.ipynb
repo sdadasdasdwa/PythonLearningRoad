{
 "cells": [
  {
   "cell_type": "code",
   "execution_count": 1,
   "id": "fa7cde60",
   "metadata": {},
   "outputs": [],
   "source": [
    "import numpy as np\n",
    "import matplotlib.pyplot as plt\n",
    "\n",
    "#生成数据\n",
    "np.random.seed(seed=1)\n",
    "N = 100      #数据的个数\n",
    "K = 3        #分布的个数\n",
    "T3 = np.zeros((N,3),dtype=np.uint8)\n",
    "T2 = np.zeros((N,2),dtype=np.uint8)\n",
    "X = np.zeros((N,2))\n",
    "X_range0 = [-3,3]    #x0的范围，用于显示\n",
    "X_range1 = [-3,3]    #x1的范围，用于显示\n",
    "Mu = np.array([[-.5,-.5],[.5,1.0],[1,-.5]])    #分布的中心\n",
    "Sig = np.array([[.7,.7],[.8,.3],[.3,.8]])      #分布的离散值\n",
    "Pi = np.array([0.4,0.8,1])              #各分部比例占0.4，0.8，1\n",
    "for n in range(N):\n",
    "    wk = np.random.rand()\n",
    "    for k in range(K):\n",
    "        if wk<Pi[k]:\n",
    "            T3[n,k]=1\n",
    "            break\n",
    "    for k in range(2):\n",
    "        X[n,k] = (np.random.randn()*Sig[T3[n,:]==1,k]+Mu[T3[n,:]==1,k])\n",
    "T2[:,0]=T3[:,0]\n",
    "T2[:,1]=T3[:,1]|T3[:,2]"
   ]
  },
  {
   "cell_type": "code",
   "execution_count": 2,
   "id": "1e42e071",
   "metadata": {},
   "outputs": [
    {
     "name": "stdout",
     "output_type": "stream",
     "text": [
      "[[0 1 0]\n",
      " [1 0 0]\n",
      " [1 0 0]\n",
      " [0 1 0]\n",
      " [1 0 0]]\n"
     ]
    }
   ],
   "source": [
    "print(np.round(T3[:5,:],2))"
   ]
  },
  {
   "cell_type": "code",
   "execution_count": 3,
   "id": "c93bf9c6",
   "metadata": {},
   "outputs": [
    {
     "name": "stdout",
     "output_type": "stream",
     "text": [
      "[[0.    0.006 0.994]\n",
      " [0.965 0.033 0.001]\n",
      " [0.925 0.07  0.005]]\n"
     ]
    }
   ],
   "source": [
    "#用于进行三元分类的逻辑回归模型\n",
    "def logistic3(x0,x1,w):\n",
    "    K = 3\n",
    "    w = w.reshape((3,3))\n",
    "    n = len(x1)\n",
    "    y = np.zeros((n,K))\n",
    "    for k in range(K):\n",
    "        y[:,k] = np.exp(w[k,0]*x0+w[k,1]*x1+w[k,2])\n",
    "#     print(y.T)\n",
    "    wk = np.sum(y,axis = 1)\n",
    "#     print(wk)\n",
    "    wk = y.T/wk\n",
    "#     print(wk)\n",
    "    y = wk.T\n",
    "    return y\n",
    "\n",
    "#test\n",
    "W = np.array([1,2,3,4,5,6,7,8,9])\n",
    "y = logistic3(X[:3,0],X[:3,1],W)\n",
    "print(np.round(y,3))\n"
   ]
  },
  {
   "cell_type": "code",
   "execution_count": 4,
   "id": "bff500bf",
   "metadata": {},
   "outputs": [
    {
     "data": {
      "text/plain": [
       "3.9824582404787288"
      ]
     },
     "execution_count": 4,
     "metadata": {},
     "output_type": "execute_result"
    }
   ],
   "source": [
    "#交叉熵误差\n",
    "def cee_logistic3(w,x,t):\n",
    "    X_n = x.shape[0]\n",
    "#     print(X_n)\n",
    "    y = logistic3(x[:,0],x[:,1],w)\n",
    "    cee = 0\n",
    "#     print(t.shape)\n",
    "    N, K = y.shape\n",
    "    for n in range(N):\n",
    "        for k in range(K):\n",
    "            cee = cee - (t[n,k]*np.log(y[n,k]))\n",
    "    cee = cee / X_n\n",
    "    return cee\n",
    "\n",
    "#------test\n",
    "W = np.array([1,2,3,4,5,6,7,8,9])\n",
    "cee_logistic3(W,X,T3)"
   ]
  },
  {
   "cell_type": "code",
   "execution_count": 6,
   "id": "50184ac5",
   "metadata": {},
   "outputs": [
    {
     "data": {
      "text/plain": [
       "array([ 0.03778433,  0.03708109, -0.1841851 , -0.21235188, -0.44408101,\n",
       "       -0.38340835,  0.17456754,  0.40699992,  0.56759346])"
      ]
     },
     "execution_count": 6,
     "metadata": {},
     "output_type": "execute_result"
    }
   ],
   "source": [
    "#交叉熵误差的导数\n",
    "def dcee_logistic3(w,x,t):\n",
    "    X_n = x.shape[0]\n",
    "    y = logistic3(x[:,0],x[:,1],w)\n",
    "    dcee = np.zeros((3,3))    #(类别数K)*(X的维度D+1)\n",
    "    N, K = y.shape\n",
    "    for n in range(N):\n",
    "        for k in range(K):\n",
    "            dcee[k,:] = dcee[k,:]-(t[n,k]-y[n,k])*np.r_[x[n,:],1]\n",
    "    dcee = dcee/ X_n\n",
    "    return dcee.reshape(-1)\n",
    "\n",
    "#test----------\n",
    "W = np.array([1,2,3,4,5,6,7,8,9])\n",
    "dcee_logistic3(W,X,T3)"
   ]
  },
  {
   "cell_type": "code",
   "execution_count": 13,
   "id": "f75fa984",
   "metadata": {},
   "outputs": [],
   "source": [
    "from scipy.optimize import minimize\n",
    "#-------寻找参数\n",
    "def fit_logistic3(w_init,x,t):\n",
    "    res = minimize(cee_logistic3,w_init,args=(x,t),jac=dcee_logistic3,method='CG')\n",
    "    return res.x"
   ]
  },
  {
   "cell_type": "code",
   "execution_count": 14,
   "id": "b5f0add2",
   "metadata": {},
   "outputs": [],
   "source": [
    "#以二维等高线的形式显示模型\n",
    "def show_contour_logistic3(w):\n",
    "    xn = 30    #要生成的采样点个数\n",
    "    x0 = np.linspace(X_range0[0],X_range0[1],xn)\n",
    "    x1 = np.linspace(X_range1[0],X_range1[1],xn)\n",
    "    \n",
    "    xx0,xx1 = np.meshgrid(x0,x1)\n",
    "    y = np.zeros((xn,xn,3))\n",
    "    for i in range(xn):\n",
    "        wk = logistic3(xx0[:,i],xx1[:,i],w)\n",
    "        for j in range(3):\n",
    "            y[:,i,j] = wk[:,j]\n",
    "    for j in range(3):\n",
    "        cont = plt.contour(xx0,xx1,y[:,:,j],levels=[0.5,0.9],colors=['cornflowerblue','k'])\n",
    "        cont.clabel(fmt='%.1f',fontsize=9)\n",
    "    plt.grid(True)"
   ]
  },
  {
   "cell_type": "code",
   "execution_count": 16,
   "id": "ee517c95",
   "metadata": {},
   "outputs": [],
   "source": [
    "#显示数据\n",
    "def show_data2(x,t):\n",
    "    wk,K = t.shape\n",
    "    c = [[.5,.5,.5],[1,1,1],[0,0,0]]\n",
    "    for k in range(K):\n",
    "        plt.plot(x[t[:,k]== 1,0],x[t[:,k]== 1,1],linestyle='none',markeredgecolor='black',marker='o',color=c[k],alpha=0.8)\n",
    "    plt.grid(True)"
   ]
  },
  {
   "cell_type": "code",
   "execution_count": 17,
   "id": "fb6b06bf",
   "metadata": {},
   "outputs": [
    {
     "name": "stdout",
     "output_type": "stream",
     "text": [
      "[[-3.2  -2.69  2.25]\n",
      " [-0.49  4.8  -0.69]\n",
      " [ 3.68 -2.11 -1.56]]\n",
      "CEE = 0.23\n"
     ]
    },
    {
     "data": {
      "image/png": "[encoded data removed]",
      "text/plain": [
       "<Figure size 216x216 with 1 Axes>"
      ]
     },
     "metadata": {
      "needs_background": "light"
     },
     "output_type": "display_data"
    }
   ],
   "source": [
    "#主处理----------\n",
    "W_init = np.zeros((3,3))\n",
    "W = fit_logistic3(W_init,X,T3)\n",
    "print(np.round(W.reshape((3,3)),2))\n",
    "cee = cee_logistic3(W,X,T3)\n",
    "print(\"CEE = {0:.2f}\".format(cee))\n",
    "\n",
    "plt.figure(figsize=(3,3))\n",
    "show_data2(X,T3)\n",
    "show_contour_logistic3(W)\n",
    "plt.show()"
   ]
  },
  {
   "cell_type": "code",
   "execution_count": null,
   "id": "0f44ab4d",
   "metadata": {},
   "outputs": [],
   "source": []
  }
 ],
 "metadata": {
  "kernelspec": {
   "display_name": "Python 3",
   "language": "python",
   "name": "python3"
  },
  "language_info": {
   "codemirror_mode": {
    "name": "ipython",
    "version": 3
   },
   "file_extension": ".py",
   "mimetype": "text/x-python",
   "name": "python",
   "nbconvert_exporter": "python",
   "pygments_lexer": "ipython3",
   "version": "3.8.8"
  }
 },
 "nbformat": 4,
 "nbformat_minor": 5
}
