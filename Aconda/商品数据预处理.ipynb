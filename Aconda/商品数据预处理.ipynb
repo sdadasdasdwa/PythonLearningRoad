{
 "cells": [
  {
   "cell_type": "code",
   "execution_count": 9,
   "id": "fbac72eb",
   "metadata": {},
   "outputs": [],
   "source": [
    "import numpy as np\n",
    "import pandas as pd\n",
    "import  matplotlib.pyplot as plt"
   ]
  },
  {
   "cell_type": "code",
   "execution_count": 29,
   "id": "9497f875",
   "metadata": {},
   "outputs": [],
   "source": [
    "result =[]\n",
    "filepath = 'data_202106.tsv'\n",
    "import codecs\n",
    "with codecs.open(filepath,'rb','gb18030',errors='ignore') as csvfile:\n",
    "    for line in csvfile:\n",
    "        temp1=line.split('\\t')\n",
    "        result.append(temp1)"
   ]
  },
  {
   "cell_type": "code",
   "execution_count": 30,
   "id": "e7022c72",
   "metadata": {},
   "outputs": [
    {
     "data": {
      "text/plain": [
       "4503241"
      ]
     },
     "execution_count": 30,
     "metadata": {},
     "output_type": "execute_result"
    }
   ],
   "source": [
    "len(result)"
   ]
  },
  {
   "cell_type": "code",
   "execution_count": 31,
   "id": "6b36d180",
   "metadata": {},
   "outputs": [],
   "source": [
    "#将读取的list转换成dataframe类型\n",
    "df=pd.DataFrame(result)"
   ]
  },
  {
   "cell_type": "code",
   "execution_count": 32,
   "id": "a0c0968f",
   "metadata": {},
   "outputs": [
    {
     "name": "stdout",
     "output_type": "stream",
     "text": [
      "['DATA_MONTH', 'ITEM_ID', 'ITEM_NAME', 'BRAND_ID', 'BRAND_NAME', 'ITEM_PRICE', 'ITEM_SALES_VOLUME', 'ITEM_SALES_AMOUNT', 'CATE_NAME_LV1', 'CATE_NAME_LV2', 'CATE_NAME_LV3', 'CATE_NAME_LV4', 'CATE_NAME_LV5', 'ITEM_FAV_NUM', 'TOTAL_EVAL_NUM', 'ITEM_STOCK', 'ITEM_DELIVERY_PLACE', 'ITEM_PROD_PLACE', 'ITEM_PARAM', 'USER_ID', 'SHOP_NAME\\r\\n']\n"
     ]
    }
   ],
   "source": [
    "#准备更改列名\n",
    "a=[]\n",
    "for i in range(21):\n",
    "    a.append(df.iloc[0][i])\n",
    "print(a)\n",
    "df.columns=a\n",
    "df.drop([0,1],inplace = True)"
   ]
  },
  {
   "cell_type": "code",
   "execution_count": 33,
   "id": "24112753",
   "metadata": {},
   "outputs": [],
   "source": [
    "#清除无关信息\n",
    "df.drop(columns=['DATA_MONTH','BRAND_NAME','ITEM_STOCK','ITEM_DELIVERY_PLACE', 'ITEM_PROD_PLACE','ITEM_PARAM','SHOP_NAME\\r\\n'],inplace=True)"
   ]
  },
  {
   "cell_type": "code",
   "execution_count": 8,
   "id": "8710f9e8",
   "metadata": {},
   "outputs": [],
   "source": [
    "#空字符串即“ ”（一个或多个空格），但在excel表格里其实是看不出来，pandas也把它当成有值进行操作\n",
    "#正则匹配空格替换 其中\\s表示空白字符，匹配任何空白字符，包括空格、制表符、换页符等\n",
    "df.replace(to_replace=r'^\\s*$',value='Nan',regex=True,inplace=True)"
   ]
  },
  {
   "cell_type": "code",
   "execution_count": 7,
   "id": "1bb2f009",
   "metadata": {},
   "outputs": [],
   "source": [
    "#删除收藏数，评论数，库存中有缺失值的情况\n",
    "df.dropna(subset=['ITEM_FAV_NUM', 'TOTAL_EVAL_NUM', 'ITEM_STOCK'],inplace=True)"
   ]
  },
  {
   "cell_type": "code",
   "execution_count": 8,
   "id": "4b4ca65f",
   "metadata": {},
   "outputs": [
    {
     "name": "stdout",
     "output_type": "stream",
     "text": [
      "                       count   unique          top    freq\n",
      "ITEM_ID              1785123  1785123  41365691123       1\n",
      "BRAND_ID             1393568   152556        29534  239779\n",
      "ITEM_PRICE           1785123    21931          9.9   31369\n",
      "ITEM_SALES_VOLUME    1785123    10237            1  331026\n",
      "ITEM_SALES_AMOUNT    1785123   114124           30    8166\n",
      "CATE_NAME_LV1        1784242       16         百货食品  355127\n",
      "CATE_NAME_LV2        1784242      180        五金/工具  107026\n",
      "CATE_NAME_LV3        1783305     1868        汽车零配件   32984\n",
      "CATE_NAME_LV4        1278293     6888    其他DIY饰品配件   13068\n",
      "CATE_NAME_LV5         308323     3231           其它    5355\n",
      "ITEM_FAV_NUM         1785123    22564            0   90956\n",
      "TOTAL_EVAL_NUM       1785123    14987            0  119405\n",
      "ITEM_STOCK           1785123   268385            0    5711\n",
      "ITEM_DELIVERY_PLACE  1782609      464         广东广州  198493\n",
      "ITEM_PROD_PLACE       575710     1051         中国大陆  343395\n"
     ]
    }
   ],
   "source": [
    "#看看数据\n",
    "explore=df.describe(include='all').T\n",
    "print(explore)"
   ]
  },
  {
   "cell_type": "code",
   "execution_count": 9,
   "id": "d2547f53",
   "metadata": {},
   "outputs": [],
   "source": [
    "np.set_printoptions(suppress=True)\n",
    "pd.set_option('display.float_format', lambda x:'%.f'%x)"
   ]
  },
  {
   "cell_type": "code",
   "execution_count": 9,
   "id": "ef55b299",
   "metadata": {},
   "outputs": [
    {
     "name": "stdout",
     "output_type": "stream",
     "text": [
      "                          mean           std   min   25%    50%     75%  \\\n",
      "ITEM_PRICE          151.566736  1.070202e+03  0.01  10.5   29.0    80.0   \n",
      "ITEM_SALES_VOLUME   172.496054  6.445427e+03  1.00   2.0    7.0    28.0   \n",
      "ITEM_SALES_AMOUNT  4352.084525  1.122610e+05  0.01  65.0  240.0  1000.0   \n",
      "ITEM_FAV_NUM       2376.385429  1.607326e+06  0.00  18.0   82.0   380.0   \n",
      "TOTAL_EVAL_NUM      299.325886  3.957649e+03  0.00   5.0   24.0    91.0   \n",
      "\n",
      "                            max  \n",
      "ITEM_PRICE         3.200000e+05  \n",
      "ITEM_SALES_VOLUME  2.909043e+06  \n",
      "ITEM_SALES_AMOUNT  8.204448e+07  \n",
      "ITEM_FAV_NUM       2.147484e+09  \n",
      "TOTAL_EVAL_NUM     1.065730e+06  \n"
     ]
    }
   ],
   "source": [
    "number=df[['ITEM_PRICE','ITEM_SALES_VOLUME','ITEM_SALES_AMOUNT','ITEM_FAV_NUM', 'TOTAL_EVAL_NUM']]\n",
    "number=number.astype('float')\n",
    "exp=number.describe(include='all').T\n",
    "exp=exp[['mean','std','min','25%','50%','75%','max']]\n",
    "print(exp)"
   ]
  },
  {
   "cell_type": "code",
   "execution_count": 9,
   "id": "2ee1e00c",
   "metadata": {},
   "outputs": [],
   "source": [
    "# index1=df['ITEM_PRICE'].astype('float')>1000\n",
    "# index2=df['ITEM_SALES_VOLUME'].astype('float')>500\n",
    "# line=df[(index1|index2)]\n",
    "index=df['CATE_NAME_LV1']=='手机数码'\n",
    "df=df[index]\n",
    "df.to_csv('endline.csv')"
   ]
  },
  {
   "cell_type": "code",
   "execution_count": 9,
   "id": "97755848",
   "metadata": {},
   "outputs": [],
   "source": [
    "data=pd.read_csv('line.csv')\n",
    "data.dropna(subset=['CATE_NAME_LV1'],inplace=True)"
   ]
  },
  {
   "cell_type": "code",
   "execution_count": 10,
   "id": "b42407f3",
   "metadata": {},
   "outputs": [
    {
     "name": "stdout",
     "output_type": "stream",
     "text": [
      "                       count unique        top   freq                 mean  \\\n",
      "Unnamed: 0           73800.0    NaN        NaN    NaN       2241338.597507   \n",
      "ITEM_ID              73800.0    NaN        NaN    NaN  520639752815.028198   \n",
      "BRAND_ID             59089.0    NaN        NaN    NaN     762366126.116147   \n",
      "ITEM_PRICE           73800.0    NaN        NaN    NaN          1533.051379   \n",
      "ITEM_SALES_VOLUME    73800.0    NaN        NaN    NaN          5534.430732   \n",
      "ITEM_SALES_AMOUNT    73800.0    NaN        NaN    NaN        242661.697639   \n",
      "CATE_NAME_LV1          73800     15       家居建材  21977                  NaN   \n",
      "CATE_NAME_LV2          73800    158      五金/工具   7726                  NaN   \n",
      "CATE_NAME_LV3          73454   1395       机械五金   2191                  NaN   \n",
      "CATE_NAME_LV4          58919   3872  其他机械五金（新）    903                  NaN   \n",
      "CATE_NAME_LV5          13786   1564  点心包装盒/包装袋    395                  NaN   \n",
      "ITEM_FAV_NUM         73800.0    NaN        NaN    NaN          5533.109065   \n",
      "TOTAL_EVAL_NUM       73800.0    NaN        NaN    NaN          2914.313672   \n",
      "ITEM_STOCK           73800.0    NaN        NaN    NaN       7237860.080705   \n",
      "ITEM_DELIVERY_PLACE    73612    345         上海   8740                  NaN   \n",
      "ITEM_PROD_PLACE        27911    263       中国大陆  16413                  NaN   \n",
      "\n",
      "                                     std         min             25%  \\\n",
      "Unnamed: 0                1271250.493306       346.0       1150514.0   \n",
      "ITEM_ID              181369729044.157684  12770087.0  546695712709.5   \n",
      "BRAND_ID               1502377242.641456       602.0       3329161.0   \n",
      "ITEM_PRICE                   8863.965388        0.01             3.6   \n",
      "ITEM_SALES_VOLUME          126979.140438         0.0             5.0   \n",
      "ITEM_SALES_AMOUNT          7633788.86543         0.0          2299.0   \n",
      "CATE_NAME_LV1                        NaN         NaN             NaN   \n",
      "CATE_NAME_LV2                        NaN         NaN             NaN   \n",
      "CATE_NAME_LV3                        NaN         NaN             NaN   \n",
      "CATE_NAME_LV4                        NaN         NaN             NaN   \n",
      "CATE_NAME_LV5                        NaN         NaN             NaN   \n",
      "ITEM_FAV_NUM                39660.160477         0.0            34.0   \n",
      "TOTAL_EVAL_NUM              17807.366422         0.0             7.0   \n",
      "ITEM_STOCK               94594943.084978         0.0           702.0   \n",
      "ITEM_DELIVERY_PLACE                  NaN         NaN             NaN   \n",
      "ITEM_PROD_PLACE                      NaN         NaN             NaN   \n",
      "\n",
      "                                50%             75%             max  \n",
      "Unnamed: 0                2229820.5       3355168.5       4412334.0  \n",
      "ITEM_ID              584471088088.0  611617178563.0  631859555545.0  \n",
      "BRAND_ID                 69035958.0     871044185.0   10446603680.0  \n",
      "ITEM_PRICE                     27.9          1588.1       1525000.0  \n",
      "ITEM_SALES_VOLUME             642.0          1467.0       8300020.0  \n",
      "ITEM_SALES_AMOUNT            7539.1         26607.0     740361070.4  \n",
      "CATE_NAME_LV1                   NaN             NaN             NaN  \n",
      "CATE_NAME_LV2                   NaN             NaN             NaN  \n",
      "CATE_NAME_LV3                   NaN             NaN             NaN  \n",
      "CATE_NAME_LV4                   NaN             NaN             NaN  \n",
      "CATE_NAME_LV5                   NaN             NaN             NaN  \n",
      "ITEM_FAV_NUM                  252.0          1860.0       6454048.0  \n",
      "TOTAL_EVAL_NUM                 62.0           776.0       1065730.0  \n",
      "ITEM_STOCK                  11771.0       226156.75    2147483647.0  \n",
      "ITEM_DELIVERY_PLACE             NaN             NaN             NaN  \n",
      "ITEM_PROD_PLACE                 NaN             NaN             NaN  \n"
     ]
    }
   ],
   "source": [
    "file=data.describe(percentiles=None,include='all').T\n",
    "print(file)"
   ]
  },
  {
   "cell_type": "code",
   "execution_count": 5,
   "id": "4b64b4e1",
   "metadata": {},
   "outputs": [
    {
     "name": "stdout",
     "output_type": "stream",
     "text": [
      "[15, 158, 1395, 3872, 1564]\n"
     ]
    }
   ],
   "source": [
    "# print(file.iloc[6:11]['unique'])\n",
    "app=[]\n",
    "for i in range(6,11):\n",
    "    app.append(file.iloc[i]['unique'])\n",
    "print(app)\n",
    "\n"
   ]
  },
  {
   "cell_type": "code",
   "execution_count": 13,
   "id": "d15a47d6",
   "metadata": {},
   "outputs": [
    {
     "name": "stdout",
     "output_type": "stream",
     "text": [
      "True\n"
     ]
    }
   ],
   "source": [
    "list=['b','c','d']\n",
    "a= 'a' in list\n",
    "print(False==0)"
   ]
  },
  {
   "cell_type": "code",
   "execution_count": 3,
   "id": "f402e5b4",
   "metadata": {},
   "outputs": [
    {
     "ename": "NameError",
     "evalue": "name 'data' is not defined",
     "output_type": "error",
     "traceback": [
      "\u001b[1;31m---------------------------------------------------------------------------\u001b[0m",
      "\u001b[1;31mNameError\u001b[0m                                 Traceback (most recent call last)",
      "\u001b[1;32m<ipython-input-3-61cf3295a4dd>\u001b[0m in \u001b[0;36m<module>\u001b[1;34m\u001b[0m\n\u001b[1;32m----> 1\u001b[1;33m \u001b[0mprint\u001b[0m\u001b[1;33m(\u001b[0m\u001b[0mdata\u001b[0m\u001b[1;33m.\u001b[0m\u001b[0mcolumns\u001b[0m\u001b[1;33m)\u001b[0m\u001b[1;33m\u001b[0m\u001b[1;33m\u001b[0m\u001b[0m\n\u001b[0m",
      "\u001b[1;31mNameError\u001b[0m: name 'data' is not defined"
     ]
    }
   ],
   "source": [
    "print(data.columns)"
   ]
  },
  {
   "cell_type": "code",
   "execution_count": 16,
   "id": "0c86a3bd",
   "metadata": {},
   "outputs": [
    {
     "name": "stdout",
     "output_type": "stream",
     "text": [
      "家居建材    21977\n",
      "百货食品    13034\n",
      "手机数码     9534\n",
      "美妆饰品     5474\n",
      "服装鞋包     4678\n",
      "其他       3333\n",
      "家用电器     3280\n",
      "运动户外     2850\n",
      "文化玩乐     2766\n",
      "母婴用品     2552\n",
      "生活服务     2092\n",
      "汽配摩托     1744\n",
      "游戏话费      233\n",
      "盒马        130\n",
      "其他商品      123\n",
      "Name: CATE_NAME_LV1, dtype: int64\n"
     ]
    }
   ],
   "source": [
    "print(data['CATE_NAME_LV1'].value_counts())\n",
    "# print(len(data['CATE_NAME_LV2'].unique()))\n",
    "# print(len(data['CATE_NAME_LV3'].unique()))\n",
    "# print(len(data['CATE_NAME_LV4'].unique()))\n",
    "\n",
    "\n"
   ]
  },
  {
   "cell_type": "code",
   "execution_count": 11,
   "id": "f4ef5ee9",
   "metadata": {},
   "outputs": [],
   "source": [
    "#读取手机数码这一类的endline.csv文件\n",
    "data=pd.read_csv('endline.csv')"
   ]
  },
  {
   "cell_type": "code",
   "execution_count": 35,
   "id": "cec5a7f4",
   "metadata": {},
   "outputs": [],
   "source": [
    "#读取data_shop.tsv文件\n",
    "result =[]\n",
    "filepath = 'data_shop.tsv'\n",
    "import codecs\n",
    "with codecs.open(filepath,'rb','gb18030',errors='ignore') as csvfile:\n",
    "    for line in csvfile:\n",
    "        temp1=line.split('\\t')\n",
    "        result.append(temp1)\n",
    "#将读取的list转换成dataframe类型\n",
    "df=pd.DataFrame(result)"
   ]
  },
  {
   "cell_type": "code",
   "execution_count": 36,
   "id": "ad036408",
   "metadata": {},
   "outputs": [
    {
     "name": "stdout",
     "output_type": "stream",
     "text": [
      "['DATA_MONTH', 'USER_ID', 'SHOP_NAME', 'SHOP_SALES_VOLUME', 'SHOP_SALES_AMOUNT', 'MAIN_BUSINESS', 'BUSINESS_SCOPE', 'SHOP_PROVINCE', 'SHOP_CITY', 'SHOP_OPEN_DATE', 'ITEMDESC_SCORE', 'SERVICE_SCORE', 'DELIVERY_SCORE', 'COMPANY_PROVINCE', 'COMPANY_CITY', 'COMPANY_COUNTY', 'SHOP_DELIVERY_PROVINCE', 'SHOP_DELIVERY_CITY', 'SHOP_DELIVERY_COUNTY\\r\\n']\n"
     ]
    }
   ],
   "source": [
    "#准备更改列名\n",
    "a=[]\n",
    "for i in range(19):\n",
    "    a.append(df.iloc[0][i])\n",
    "print(a)\n",
    "df.columns=a\n",
    "df.drop([0,1],inplace = True)"
   ]
  },
  {
   "cell_type": "code",
   "execution_count": 37,
   "id": "7e11170d",
   "metadata": {},
   "outputs": [],
   "source": [
    "#清除无关信息\n",
    "df.drop(columns=['SHOP_NAME', 'SHOP_SALES_VOLUME', 'SHOP_SALES_AMOUNT', 'MAIN_BUSINESS', 'BUSINESS_SCOPE', 'SHOP_PROVINCE', 'SHOP_CITY', 'SHOP_OPEN_DATE', 'COMPANY_PROVINCE', 'COMPANY_CITY', 'COMPANY_COUNTY', 'SHOP_DELIVERY_PROVINCE', 'SHOP_DELIVERY_CITY', 'SHOP_DELIVERY_COUNTY\\r\\n'],inplace=True)"
   ]
  },
  {
   "cell_type": "code",
   "execution_count": 38,
   "id": "bd19b54b",
   "metadata": {},
   "outputs": [],
   "source": [
    "df.replace(to_replace=r'^\\s*$',value='0',regex=True,inplace=True)"
   ]
  },
  {
   "cell_type": "code",
   "execution_count": 40,
   "id": "5c6492ff",
   "metadata": {},
   "outputs": [
    {
     "data": {
      "text/html": [
       "<div>\n",
       "<style scoped>\n",
       "    .dataframe tbody tr th:only-of-type {\n",
       "        vertical-align: middle;\n",
       "    }\n",
       "\n",
       "    .dataframe tbody tr th {\n",
       "        vertical-align: top;\n",
       "    }\n",
       "\n",
       "    .dataframe thead th {\n",
       "        text-align: right;\n",
       "    }\n",
       "</style>\n",
       "<table border=\"1\" class=\"dataframe\">\n",
       "  <thead>\n",
       "    <tr style=\"text-align: right;\">\n",
       "      <th></th>\n",
       "      <th>DATA_MONTH</th>\n",
       "      <th>USER_ID</th>\n",
       "      <th>ITEMDESC_SCORE</th>\n",
       "      <th>SERVICE_SCORE</th>\n",
       "      <th>DELIVERY_SCORE</th>\n",
       "    </tr>\n",
       "  </thead>\n",
       "  <tbody>\n",
       "    <tr>\n",
       "      <th>498</th>\n",
       "      <td>202107</td>\n",
       "      <td>1632040030</td>\n",
       "      <td>0</td>\n",
       "      <td>0</td>\n",
       "      <td>0</td>\n",
       "    </tr>\n",
       "    <tr>\n",
       "      <th>634</th>\n",
       "      <td>202107</td>\n",
       "      <td>1106947054</td>\n",
       "      <td>0</td>\n",
       "      <td>0</td>\n",
       "      <td>0</td>\n",
       "    </tr>\n",
       "    <tr>\n",
       "      <th>988</th>\n",
       "      <td>202107</td>\n",
       "      <td>3957812167</td>\n",
       "      <td>0</td>\n",
       "      <td>0</td>\n",
       "      <td>0</td>\n",
       "    </tr>\n",
       "    <tr>\n",
       "      <th>1042</th>\n",
       "      <td>202107</td>\n",
       "      <td>81737257</td>\n",
       "      <td>0</td>\n",
       "      <td>0</td>\n",
       "      <td>0</td>\n",
       "    </tr>\n",
       "    <tr>\n",
       "      <th>1654</th>\n",
       "      <td>202107</td>\n",
       "      <td>407731528</td>\n",
       "      <td>0</td>\n",
       "      <td>0</td>\n",
       "      <td>0</td>\n",
       "    </tr>\n",
       "    <tr>\n",
       "      <th>...</th>\n",
       "      <td>...</td>\n",
       "      <td>...</td>\n",
       "      <td>...</td>\n",
       "      <td>...</td>\n",
       "      <td>...</td>\n",
       "    </tr>\n",
       "    <tr>\n",
       "      <th>653567</th>\n",
       "      <td>202108</td>\n",
       "      <td>3584521535</td>\n",
       "      <td>0</td>\n",
       "      <td>0</td>\n",
       "      <td>0</td>\n",
       "    </tr>\n",
       "    <tr>\n",
       "      <th>653736</th>\n",
       "      <td>202108</td>\n",
       "      <td>530517355</td>\n",
       "      <td>0</td>\n",
       "      <td>0</td>\n",
       "      <td>0</td>\n",
       "    </tr>\n",
       "    <tr>\n",
       "      <th>654019</th>\n",
       "      <td>202108</td>\n",
       "      <td>2250586522</td>\n",
       "      <td>0</td>\n",
       "      <td>0</td>\n",
       "      <td>0</td>\n",
       "    </tr>\n",
       "    <tr>\n",
       "      <th>654239</th>\n",
       "      <td>202108</td>\n",
       "      <td>674300280</td>\n",
       "      <td>0</td>\n",
       "      <td>0</td>\n",
       "      <td>0</td>\n",
       "    </tr>\n",
       "    <tr>\n",
       "      <th>654314</th>\n",
       "      <td>202108</td>\n",
       "      <td>2819407982</td>\n",
       "      <td>0</td>\n",
       "      <td>0</td>\n",
       "      <td>0</td>\n",
       "    </tr>\n",
       "  </tbody>\n",
       "</table>\n",
       "<p>2158 rows × 5 columns</p>\n",
       "</div>"
      ],
      "text/plain": [
       "       DATA_MONTH     USER_ID ITEMDESC_SCORE SERVICE_SCORE DELIVERY_SCORE\n",
       "498        202107  1632040030              0             0              0\n",
       "634        202107  1106947054              0             0              0\n",
       "988        202107  3957812167              0             0              0\n",
       "1042       202107    81737257              0             0              0\n",
       "1654       202107   407731528              0             0              0\n",
       "...           ...         ...            ...           ...            ...\n",
       "653567     202108  3584521535              0             0              0\n",
       "653736     202108   530517355              0             0              0\n",
       "654019     202108  2250586522              0             0              0\n",
       "654239     202108   674300280              0             0              0\n",
       "654314     202108  2819407982              0             0              0\n",
       "\n",
       "[2158 rows x 5 columns]"
      ]
     },
     "execution_count": 40,
     "metadata": {},
     "output_type": "execute_result"
    }
   ],
   "source": [
    "index1=df['ITEMDESC_SCORE']=='0'\n",
    "df[index1]"
   ]
  },
  {
   "cell_type": "code",
   "execution_count": 1,
   "id": "2ccbfb29",
   "metadata": {},
   "outputs": [],
   "source": [
    "# filedata[['ITEMDESC_SCORE']]=filedata[['ITEMDESC_SCORE']].astype('float')\n",
    "# filedata[['SERVICE_SCORE']]=filedata[['SERVICE_SCORE']].astype('float')\n",
    "# filedata[['DELIVERY_SCORE']]=filedata[['DELIVERY_SCORE']].astype('float')\n",
    "# filedata[['USER_ID']]=filedata[['USER_ID']].astype('int64')"
   ]
  },
  {
   "cell_type": "code",
   "execution_count": 3,
   "id": "9fe3d2b4",
   "metadata": {},
   "outputs": [
    {
     "data": {
      "text/html": [
       "<div>\n",
       "<style scoped>\n",
       "    .dataframe tbody tr th:only-of-type {\n",
       "        vertical-align: middle;\n",
       "    }\n",
       "\n",
       "    .dataframe tbody tr th {\n",
       "        vertical-align: top;\n",
       "    }\n",
       "\n",
       "    .dataframe thead th {\n",
       "        text-align: right;\n",
       "    }\n",
       "</style>\n",
       "<table border=\"1\" class=\"dataframe\">\n",
       "  <thead>\n",
       "    <tr style=\"text-align: right;\">\n",
       "      <th></th>\n",
       "      <th>Unnamed: 0</th>\n",
       "      <th>ITEM_ID</th>\n",
       "      <th>ITEM_NAME</th>\n",
       "      <th>ITEM_PRICE</th>\n",
       "      <th>ITEM_SALES_VOLUME</th>\n",
       "      <th>CATE_NAME_LV1</th>\n",
       "      <th>CATE_NAME_LV2</th>\n",
       "      <th>CATE_NAME_LV3</th>\n",
       "      <th>CATE_NAME_LV4</th>\n",
       "      <th>CATE_NAME_LV5</th>\n",
       "      <th>Label1</th>\n",
       "      <th>Label2</th>\n",
       "      <th>Label3</th>\n",
       "      <th>Label4</th>\n",
       "      <th>Label5</th>\n",
       "    </tr>\n",
       "  </thead>\n",
       "  <tbody>\n",
       "    <tr>\n",
       "      <th>0</th>\n",
       "      <td>2</td>\n",
       "      <td>559237486452</td>\n",
       "      <td>七巧板宝宝男童女童儿童袜子秋冬季全棉加厚纯棉袜中筒长筒堆堆袜</td>\n",
       "      <td>29.5</td>\n",
       "      <td>37</td>\n",
       "      <td>母婴用品</td>\n",
       "      <td>童装/婴儿装/亲子装</td>\n",
       "      <td>儿童袜子(0-16岁)</td>\n",
       "      <td>Nan</td>\n",
       "      <td>Nan</td>\n",
       "      <td>9</td>\n",
       "      <td>142</td>\n",
       "      <td>268</td>\n",
       "      <td>123</td>\n",
       "      <td>37</td>\n",
       "    </tr>\n",
       "    <tr>\n",
       "      <th>1</th>\n",
       "      <td>3</td>\n",
       "      <td>560359123903</td>\n",
       "      <td>康乐果 利鼻片 0.25g*36片/盒 清热解毒 祛风开窍。用于风热蕴肺所致的伤风鼻塞、鼻渊...</td>\n",
       "      <td>18.0</td>\n",
       "      <td>2</td>\n",
       "      <td>百货食品</td>\n",
       "      <td>处方药</td>\n",
       "      <td>五官用药</td>\n",
       "      <td>鼻科用药</td>\n",
       "      <td>Nan</td>\n",
       "      <td>13</td>\n",
       "      <td>48</td>\n",
       "      <td>186</td>\n",
       "      <td>7873</td>\n",
       "      <td>37</td>\n",
       "    </tr>\n",
       "    <tr>\n",
       "      <th>2</th>\n",
       "      <td>4</td>\n",
       "      <td>562152845686</td>\n",
       "      <td>怀美二期手臂环吸塑身衣女收副乳塑托胸美体衣束胸内衣塑身胸托</td>\n",
       "      <td>299.0</td>\n",
       "      <td>69</td>\n",
       "      <td>服装鞋包</td>\n",
       "      <td>女士内衣/男士内衣/家居服</td>\n",
       "      <td>塑身上衣</td>\n",
       "      <td>Nan</td>\n",
       "      <td>Nan</td>\n",
       "      <td>8</td>\n",
       "      <td>51</td>\n",
       "      <td>583</td>\n",
       "      <td>123</td>\n",
       "      <td>37</td>\n",
       "    </tr>\n",
       "  </tbody>\n",
       "</table>\n",
       "</div>"
      ],
      "text/plain": [
       "   Unnamed: 0       ITEM_ID  \\\n",
       "0           2  559237486452   \n",
       "1           3  560359123903   \n",
       "2           4  562152845686   \n",
       "\n",
       "                                           ITEM_NAME  ITEM_PRICE  \\\n",
       "0                     七巧板宝宝男童女童儿童袜子秋冬季全棉加厚纯棉袜中筒长筒堆堆袜        29.5   \n",
       "1  康乐果 利鼻片 0.25g*36片/盒 清热解毒 祛风开窍。用于风热蕴肺所致的伤风鼻塞、鼻渊...        18.0   \n",
       "2                      怀美二期手臂环吸塑身衣女收副乳塑托胸美体衣束胸内衣塑身胸托       299.0   \n",
       "\n",
       "   ITEM_SALES_VOLUME CATE_NAME_LV1  CATE_NAME_LV2 CATE_NAME_LV3 CATE_NAME_LV4  \\\n",
       "0                 37          母婴用品     童装/婴儿装/亲子装   儿童袜子(0-16岁)           Nan   \n",
       "1                  2          百货食品            处方药          五官用药          鼻科用药   \n",
       "2                 69          服装鞋包  女士内衣/男士内衣/家居服          塑身上衣           Nan   \n",
       "\n",
       "  CATE_NAME_LV5  Label1  Label2  Label3  Label4  Label5  \n",
       "0           Nan       9     142     268     123      37  \n",
       "1           Nan      13      48     186    7873      37  \n",
       "2           Nan       8      51     583     123      37  "
      ]
     },
     "execution_count": 3,
     "metadata": {},
     "output_type": "execute_result"
    }
   ],
   "source": [
    "data=pd.read_csv('again.csv')\n",
    "data.iloc[0:3]"
   ]
  },
  {
   "cell_type": "code",
   "execution_count": 6,
   "id": "d8ce7f1e",
   "metadata": {},
   "outputs": [],
   "source": [
    "y=[0,0,0,0]"
   ]
  },
  {
   "cell_type": "code",
   "execution_count": 10,
   "id": "8ab6b41e",
   "metadata": {},
   "outputs": [
    {
     "data": {
      "text/plain": [
       "([<matplotlib.axis.XTick at 0x1c98595f700>,\n",
       "  <matplotlib.axis.XTick at 0x1c98595f6d0>,\n",
       "  <matplotlib.axis.XTick at 0x1c985954220>,\n",
       "  <matplotlib.axis.XTick at 0x1c985997c10>],\n",
       " [Text(0, 0, '0 - 100'),\n",
       "  Text(1, 0, '100 - 1000'),\n",
       "  Text(2, 0, '1000 - 10000'),\n",
       "  Text(3, 0, '>10000')])"
      ]
     },
     "execution_count": 10,
     "metadata": {},
     "output_type": "execute_result"
    },
    {
     "data": {
      "image/png": "[encoded data removed]",
      "text/plain": [
       "<Figure size 432x288 with 1 Axes>"
      ]
     },
     "metadata": {
      "needs_background": "light"
     },
     "output_type": "display_data"
    }
   ],
   "source": [
    "for i in range(len(data)):\n",
    "    if(data.iloc[i,3]<100):\n",
    "        y[0]=y[0]+1\n",
    "    elif(data.iloc[i,3]<1000):\n",
    "        y[1]=y[1]+1\n",
    "    elif(data.iloc[i,3]<10000):\n",
    "        y[2]=y[2]+1\n",
    "    else:\n",
    "        y[3]=y[3]+1\n",
    "\n",
    "x_values=list(range(len(y)))\n",
    "plt.bar(x_values,y,orientation='vertical')\n",
    "plt.xticks(x_values,['0 - 100','100 - 1000','1000 - 10000','>10000'],rotation='vertical')"
   ]
  },
  {
   "cell_type": "code",
   "execution_count": 12,
   "id": "d6bd2706",
   "metadata": {},
   "outputs": [
    {
     "data": {
      "text/plain": [
       "{'whiskers': [<matplotlib.lines.Line2D at 0x1c9865f4640>,\n",
       "  <matplotlib.lines.Line2D at 0x1c9865f49a0>],\n",
       " 'caps': [<matplotlib.lines.Line2D at 0x1c9865f4d00>,\n",
       "  <matplotlib.lines.Line2D at 0x1c9865ff0a0>],\n",
       " 'boxes': [<matplotlib.patches.PathPatch at 0x1c9865f42e0>],\n",
       " 'medians': [<matplotlib.lines.Line2D at 0x1c9865ff400>],\n",
       " 'fliers': [<matplotlib.lines.Line2D at 0x1c9865ff760>],\n",
       " 'means': []}"
      ]
     },
     "execution_count": 12,
     "metadata": {},
     "output_type": "execute_result"
    },
    {
     "data": {
      "image/png": "[encoded data removed]",
      "text/plain": [
       "<Figure size 360x720 with 1 Axes>"
      ]
     },
     "metadata": {
      "needs_background": "light"
     },
     "output_type": "display_data"
    }
   ],
   "source": [
    "plt.rcParams['font.sans-serif'] = 'SimHei'\n",
    "plt.rcParams['axes.unicode_minus'] = False\n",
    "age = data['ITEM_PRICE']\n",
    "fig = plt.figure(figsize=(5 ,10))\n",
    "plt.boxplot(age, patch_artist=True,labels = ['价格'],boxprops = {'facecolor':'lightblue'})"
   ]
  }
 ],
 "metadata": {
  "kernelspec": {
   "display_name": "Python 3",
   "language": "python",
   "name": "python3"
  },
  "language_info": {
   "codemirror_mode": {
    "name": "ipython",
    "version": 3
   },
   "file_extension": ".py",
   "mimetype": "text/x-python",
   "name": "python",
   "nbconvert_exporter": "python",
   "pygments_lexer": "ipython3",
   "version": "3.8.8"
  }
 },
 "nbformat": 4,
 "nbformat_minor": 5
}
