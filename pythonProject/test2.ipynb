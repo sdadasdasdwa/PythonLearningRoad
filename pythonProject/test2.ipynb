{
 "cells": [
  {
   "cell_type": "code",
   "execution_count": 1,
   "outputs": [],
   "source": [
    "import re\n",
    "\n",
    "import numpy as np"
   ],
   "metadata": {
    "collapsed": false,
    "pycharm": {
     "name": "#%%\n"
    }
   }
  },
  {
   "cell_type": "code",
   "execution_count": 2,
   "outputs": [
    {
     "data": {
      "text/plain": "[('This', 'that')]"
     },
     "execution_count": 2,
     "metadata": {},
     "output_type": "execute_result"
    }
   ],
   "source": [
    "s = 'This and that'\n",
    "[g.groups() for g in re.finditer(r'(th\\w+) and (th\\w+)', s, re.I)]"
   ],
   "metadata": {
    "collapsed": false,
    "pycharm": {
     "name": "#%%\n"
    }
   }
  },
  {
   "cell_type": "code",
   "execution_count": 3,
   "outputs": [
    {
     "name": "stdout",
     "output_type": "stream",
     "text": [
      "['This', 'that']\n"
     ]
    }
   ],
   "source": [
    "print(re.findall(r'(th\\w+)', s, re.I))"
   ],
   "metadata": {
    "collapsed": false,
    "pycharm": {
     "name": "#%%\n"
    }
   }
  },
  {
   "cell_type": "markdown",
   "source": [],
   "metadata": {
    "collapsed": false,
    "pycharm": {
     "name": "#%% md\n"
    }
   }
  },
  {
   "cell_type": "code",
   "execution_count": 4,
   "outputs": [
    {
     "name": "stdout",
     "output_type": "stream",
     "text": [
      "('This',)\n",
      "This\n",
      "('that',)\n",
      "that\n"
     ]
    }
   ],
   "source": [
    "it = re.finditer(r'(th\\w+)', s, re.I)\n",
    "g = it.__next__()\n",
    "print(g.groups())\n",
    "print(g.group())\n",
    "g = it.__next__()\n",
    "print(g.groups())\n",
    "print(g.group())"
   ],
   "metadata": {
    "collapsed": false,
    "pycharm": {
     "name": "#%%\n"
    }
   }
  },
  {
   "cell_type": "raw",
   "source": [
    "1.3.12 使用sub()和subn()搜索与替换"
   ],
   "metadata": {
    "collapsed": false,
    "pycharm": {
     "name": "#%% raw\n"
    }
   }
  },
  {
   "cell_type": "code",
   "execution_count": 5,
   "outputs": [
    {
     "data": {
      "text/plain": "'attn: Mr.smith\\n\\nDear: Mr.smith,\\n'"
     },
     "execution_count": 5,
     "metadata": {},
     "output_type": "execute_result"
    }
   ],
   "source": [
    "re.sub('X', 'Mr.smith', 'attn: X\\n\\nDear: X,\\n')"
   ],
   "metadata": {
    "collapsed": false,
    "pycharm": {
     "name": "#%%\n"
    }
   }
  },
  {
   "cell_type": "code",
   "execution_count": 6,
   "outputs": [
    {
     "data": {
      "text/plain": "('attn: Mr.smith\\n\\nDear: Mr.smith,\\n', 2)"
     },
     "execution_count": 6,
     "metadata": {},
     "output_type": "execute_result"
    }
   ],
   "source": [
    "re.subn('X', 'Mr.smith', 'attn: X\\n\\nDear: X,\\n')"
   ],
   "metadata": {
    "collapsed": false,
    "pycharm": {
     "name": "#%%\n"
    }
   }
  },
  {
   "cell_type": "code",
   "execution_count": 7,
   "outputs": [
    {
     "name": "stdout",
     "output_type": "stream",
     "text": [
      "attn: Mr.smith\n",
      "\n",
      "Dear: Mr.smith,\n",
      "\n"
     ]
    }
   ],
   "source": [
    "print(re.sub('X', 'Mr.smith', 'attn: X\\n\\nDear: X,\\n'))"
   ],
   "metadata": {
    "collapsed": false,
    "pycharm": {
     "name": "#%%\n"
    }
   }
  },
  {
   "cell_type": "code",
   "execution_count": 8,
   "outputs": [
    {
     "data": {
      "text/plain": "'20/2/91'"
     },
     "execution_count": 8,
     "metadata": {},
     "output_type": "execute_result"
    }
   ],
   "source": [
    "re.sub(r'(\\d{1,2})/(\\d{1,2})/(\\d{2}|\\d{4})', r'\\2/\\1/\\3', '2/20/91')"
   ],
   "metadata": {
    "collapsed": false,
    "pycharm": {
     "name": "#%%\n"
    }
   }
  },
  {
   "cell_type": "raw",
   "source": [
    "1.3.13 在限定模式上使用split()分隔字符串"
   ],
   "metadata": {
    "collapsed": false,
    "pycharm": {
     "name": "#%% raw\n"
    }
   }
  },
  {
   "cell_type": "code",
   "execution_count": 4,
   "outputs": [
    {
     "name": "stdout",
     "output_type": "stream",
     "text": [
      "['Mountain View', 'CA 9404']\n",
      "['Sunnyvale', 'CA']\n",
      "['Los Atlos', '94023']\n",
      "['Cupertino', '95014']\n",
      "['Palo Alto', 'CA']\n"
     ]
    }
   ],
   "source": [
    "DATA = (\n",
    "    'Mountain View, CA 9404',\n",
    "    'Sunnyvale, CA',\n",
    "    'Los Atlos, 94023',\n",
    "    'Cupertino 95014',\n",
    "    'Palo Alto CA'\n",
    ")\n",
    "\n",
    "for datum in DATA:\n",
    "    print(re.split(', | (?=(?:\\d{5}|[A-Z]{2}))', datum))"
   ],
   "metadata": {
    "collapsed": false,
    "pycharm": {
     "name": "#%%\n"
    }
   }
  },
  {
   "cell_type": "markdown",
   "source": [
    "1.3.14扩展符号标记\n",
    "re.I/IGNORECASE\n",
    "re.S/DOTALL\n",
    "re.X/VERBOSE"
   ],
   "metadata": {
    "collapsed": false,
    "pycharm": {
     "name": "#%% md\n"
    }
   }
  },
  {
   "cell_type": "code",
   "execution_count": 18,
   "outputs": [
    {
     "data": {
      "text/plain": "['This line is the first', 'that line']"
     },
     "execution_count": 18,
     "metadata": {},
     "output_type": "execute_result"
    }
   ],
   "source": [
    "re.findall(r'(?im)(^th[\\w ]+)', \"\"\"This line is the first,\n",
    "another second,\n",
    "that line, it's the first\"\"\")"
   ],
   "metadata": {
    "collapsed": false,
    "pycharm": {
     "name": "#%%\n"
    }
   }
  },
  {
   "cell_type": "markdown",
   "source": [
    "1.5更长的正则表达式示例"
   ],
   "metadata": {
    "collapsed": false,
    "pycharm": {
     "name": "#%% md\n"
    }
   }
  },
  {
   "cell_type": "code",
   "execution_count": 76,
   "outputs": [
    {
     "name": "stdout",
     "output_type": "stream",
     "text": [
      "Sun Nov 29 03:22:09 2043::wiuu@vxpdvfelc.net::2332351329-4-9\n",
      "Fri Jun 26 14:14:08 1970::oupqj@vjgpxwqee.net::15228848-5-9\n",
      "Fri Apr 25 15:03:25 2098::obfuom@pvcnsg.net::4049247805-6-6\n",
      "Wed Jul 16 11:37:24 2053::yowz@xnquxytgpir.edu::2636249844-4-11\n",
      "Sat Dec 26 18:05:32 2099::xuuhvfn@mtbayocz.org::4101962732-7-8\n",
      "Fri Aug 18 08:07:58 2102::zcxzo@nlzwdg.gov::4185302878-5-6\n",
      "Sat Nov 25 22:35:34 1978::unsyddw@arkgbijhr.com::280852534-7-9\n",
      "Thu Dec 23 17:38:43 1976::uxhlup@cfmeirlrkuus.com::220181923-6-12\n"
     ]
    }
   ],
   "source": [
    "from random import randrange, choice\n",
    "from string import ascii_lowercase as lc\n",
    "from sys import maxsize\n",
    "from time import ctime\n",
    "\n",
    "tlds = ('com', 'edu', 'net', 'org', 'gov')\n",
    "\n",
    "with open('redata.txt', 'w') as f:\n",
    "    for i in range(randrange(5, 11)):\n",
    "        dtint = randrange(2**32)  #pick date\n",
    "        dtstr = ctime(dtint)    #date string\n",
    "        llen = randrange(4, 8)  #login is shorter\n",
    "        login = ''.join(choice(lc) for j in range(llen))\n",
    "        dlen = randrange(llen, 13)  #domain is longer\n",
    "        dom = ''.join(choice(lc) for j in range(dlen))\n",
    "        print('%s::%s@%s.%s::%d-%d-%d' % (dtstr, login, dom, choice(tlds), dtint, llen, dlen))\n",
    "        f.write('%s::%s@%s.%s::%d-%d-%d\\n' % (dtstr, login, dom, choice(tlds), dtint, llen, dlen))"
   ],
   "metadata": {
    "collapsed": false,
    "pycharm": {
     "name": "#%%\n"
    }
   }
  },
  {
   "cell_type": "code",
   "execution_count": 95,
   "outputs": [
    {
     "name": "stdout",
     "output_type": "stream",
     "text": [
      "4\n",
      "5\n",
      "6\n",
      "4\n",
      "7\n",
      "5\n",
      "7\n",
      "6\n"
     ]
    }
   ],
   "source": [
    "with open('redata.txt', 'r') as f:\n",
    "    patt = '.+?(\\d+-\\d+-\\d+)'\n",
    "    patt1 = '-(\\d+)-'\n",
    "    for line in f:\n",
    "        m = re.search(patt1, line)\n",
    "        print(m.group(1))"
   ],
   "metadata": {
    "collapsed": false,
    "pycharm": {
     "name": "#%%\n"
    }
   }
  },
  {
   "cell_type": "code",
   "execution_count": null,
   "outputs": [],
   "source": [],
   "metadata": {
    "collapsed": false,
    "pycharm": {
     "name": "#%%\n"
    }
   }
  }
 ],
 "metadata": {
  "kernelspec": {
   "display_name": "Python 3",
   "language": "python",
   "name": "python3"
  },
  "language_info": {
   "codemirror_mode": {
    "name": "ipython",
    "version": 2
   },
   "file_extension": ".py",
   "mimetype": "text/x-python",
   "name": "python",
   "nbconvert_exporter": "python",
   "pygments_lexer": "ipython2",
   "version": "2.7.6"
  }
 },
 "nbformat": 4,
 "nbformat_minor": 0
}